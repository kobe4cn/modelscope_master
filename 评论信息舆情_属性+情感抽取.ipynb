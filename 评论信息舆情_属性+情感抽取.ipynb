{
 "cells": [
  {
   "cell_type": "code",
   "execution_count": 1,
   "metadata": {},
   "outputs": [],
   "source": [
    "import pandas as pd"
   ]
  },
  {
   "cell_type": "code",
   "execution_count": null,
   "metadata": {},
   "outputs": [],
   "source": [
    "from modelscope.pipelines import pipeline\n",
    "from modelscope.utils.constant import Tasks\n",
    "from openpyxl import Workbook\n",
    "from openpyxl.styles import Font\n",
    "semantic_cls = pipeline(Tasks.information_extraction, 'damo/nlp_bert_relation-extraction_chinese-base-commerce')\n"
   ]
  },
  {
   "cell_type": "code",
   "execution_count": 3,
   "metadata": {},
   "outputs": [],
   "source": [
    "def review_predict(review):\n",
    "    #返回结果属性词+情感极性+情感词\n",
    "    #基于hugging face hfl/chinese-roberta-wwm-ext 的模型进行训练的模型，如需训练该模型需了解Bert模型训练\n",
    "    result=semantic_cls(input=review)\n",
    "    return result\n"
   ]
  },
  {
   "cell_type": "code",
   "execution_count": 4,
   "metadata": {},
   "outputs": [
    {
     "name": "stderr",
     "output_type": "stream",
     "text": [
      "2023-07-08 18:59:03,774 - modelscope - WARNING - task information-extraction input definition is missing\n",
      "/Users/kevin.yang/miniforge3/envs/modelscope/lib/python3.8/site-packages/transformers/modeling_utils.py:884: FutureWarning: The `device` argument is deprecated and will be removed in v5 of Transformers.\n",
      "  warnings.warn(\n",
      "2023-07-08 18:59:03,839 - modelscope - WARNING - task information-extraction output keys are missing\n"
     ]
    }
   ],
   "source": [
    "excel_data=pd.read_excel('/Users/kevin.yang/Documents/develop/modelscope/review_data/Estee Lauder_review.xlsx')\n",
    "df=excel_data[['买家','初评内容']]\n",
    "wb = Workbook()\n",
    "ws = wb.active\n",
    "ws.append(['买家','评论','正/负舆情','属性','情感词'])\n",
    "row=ws[1]\n",
    "font=Font(bold=True)\n",
    "for cell in row:\n",
    "    cell.font=font\n",
    "    \n",
    "for v in df.to_dict(orient='records'):\n",
    "    # if v['初评内容']==\"包装严密，整体气味很小，是我想要的，上一罐韩国的正好用完这一罐接上，好评\":\n",
    "    #     break\n",
    "    review=v['初评内容']\n",
    "    buyer=v['买家']\n",
    "    result=review_predict(review)['spo_list']\n",
    "    result.sort(key=lambda x:x[1])\n",
    "    #获得ws当前行数\n",
    "    row_num=ws.max_row\n",
    "    #先将数据全部压入worksheet，之后再进行单元格合并\n",
    "    for i, data in enumerate(result):\n",
    "        ws.append([buyer,review,data[1],data[0],data[2]])\n",
    "    # #将ws中内容相同的单元格合并起来\n",
    "    # #需要合并的行数\n",
    "    row_merge=result.__len__()\n",
    "    if row_merge>1:\n",
    "        #第一，第二列为买家和初评内容肯定需要被合并\n",
    "        ws.merge_cells(start_row=row_num+1, start_column=1, end_row=row_num+row_merge, end_column=1)\n",
    "        ws.merge_cells(start_row=row_num+1, start_column=2, end_row=row_num+row_merge, end_column=2)\n",
    "        #正负舆情列 需要开始合并的行和结束合并的行\n",
    "        start_merge=row_num+1\n",
    "        end_merge=row_num+1\n",
    "        for i in range(row_num+1,row_num+row_merge+1):\n",
    "            #第一行继续执行\n",
    "            if i==row_num+1:\n",
    "                continue\n",
    "            #如果已经到了新增数据的最后一行，直接全部合并掉\n",
    "            elif i==row_num+row_merge:\n",
    "                end_merge = i\n",
    "                ws.merge_cells(start_row=start_merge, start_column=3, end_row=end_merge, end_column=3)\n",
    "            else:\n",
    "                #判断本行与上一行的正负舆情列数据是否一致，如果不一致直接合并，反之结束行往后挪\n",
    "                if ws.cell(row=i-1,column=3).value==ws.cell(row=i,column=3).value:\n",
    "                    end_merge=i\n",
    "                else:\n",
    "                    #如果不一致了，立刻合并之前的行，并重新设置新合并单元的起始行\n",
    "                    ws.merge_cells(start_row=start_merge, start_column=3, end_row=end_merge, end_column=3)\n",
    "                    start_merge=i\n",
    "\n",
    "wb.save('./review_data/result_data.xlsx')\n"
   ]
  }
 ],
 "metadata": {
  "kernelspec": {
   "display_name": "modelscope",
   "language": "python",
   "name": "python3"
  },
  "language_info": {
   "codemirror_mode": {
    "name": "ipython",
    "version": 3
   },
   "file_extension": ".py",
   "mimetype": "text/x-python",
   "name": "python",
   "nbconvert_exporter": "python",
   "pygments_lexer": "ipython3",
   "version": "3.8.17"
  },
  "orig_nbformat": 4
 },
 "nbformat": 4,
 "nbformat_minor": 2
}
