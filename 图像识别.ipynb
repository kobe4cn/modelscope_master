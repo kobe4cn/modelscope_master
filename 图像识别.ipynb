{
  "nbformat": 4,
  "nbformat_minor": 0,
  "metadata": {
    "colab": {
      "provenance": [],
      "mount_file_id": "1YVa9fW6i4wkgq9KUyIXKpqnUKlR2Qu3b",
      "authorship_tag": "ABX9TyMYFjGA1PRMieDmPLxzETIx",
      "include_colab_link": true
    },
    "kernelspec": {
      "name": "python3",
      "display_name": "Python 3"
    },
    "language_info": {
      "name": "python"
    }
  },
  "cells": [
    {
      "cell_type": "markdown",
      "metadata": {
        "id": "view-in-github",
        "colab_type": "text"
      },
      "source": [
        "<a href=\"https://colab.research.google.com/github/kobe4cn/modelscope_master/blob/main/%E5%9B%BE%E5%83%8F%E8%AF%86%E5%88%AB.ipynb\" target=\"_parent\"><img src=\"https://colab.research.google.com/assets/colab-badge.svg\" alt=\"Open In Colab\"/></a>"
      ]
    },
    {
      "cell_type": "code",
      "execution_count": null,
      "metadata": {
        "id": "1DBbCZz7ThlO"
      },
      "outputs": [],
      "source": [
        "!pip install opencv_python\n",
        "!pip install tf_slim\n",
        "!pip install modelscope\n",
        "!pip install pyperclip\n",
        "!pip install pyclipper\n",
        "!pip install openpyxl\n",
        "!pip install xlwings"
      ]
    },
    {
      "cell_type": "code",
      "source": [
        "!pip install transformers"
      ],
      "metadata": {
        "colab": {
          "base_uri": "https://localhost:8080/"
        },
        "id": "H_X5uX3ZLK9G",
        "outputId": "0ab876bd-a709-43e5-fe68-463a5866f012"
      },
      "execution_count": 4,
      "outputs": [
        {
          "output_type": "stream",
          "name": "stdout",
          "text": [
            "Requirement already satisfied: transformers in /usr/local/lib/python3.10/dist-packages (4.30.2)\n",
            "Requirement already satisfied: filelock in /usr/local/lib/python3.10/dist-packages (from transformers) (3.12.2)\n",
            "Requirement already satisfied: huggingface-hub<1.0,>=0.14.1 in /usr/local/lib/python3.10/dist-packages (from transformers) (0.16.4)\n",
            "Requirement already satisfied: numpy>=1.17 in /usr/local/lib/python3.10/dist-packages (from transformers) (1.22.0)\n",
            "Requirement already satisfied: packaging>=20.0 in /usr/local/lib/python3.10/dist-packages (from transformers) (23.1)\n",
            "Requirement already satisfied: pyyaml>=5.1 in /usr/local/lib/python3.10/dist-packages (from transformers) (6.0)\n",
            "Requirement already satisfied: regex!=2019.12.17 in /usr/local/lib/python3.10/dist-packages (from transformers) (2022.10.31)\n",
            "Requirement already satisfied: requests in /usr/local/lib/python3.10/dist-packages (from transformers) (2.27.1)\n",
            "Requirement already satisfied: tokenizers!=0.11.3,<0.14,>=0.11.1 in /usr/local/lib/python3.10/dist-packages (from transformers) (0.13.3)\n",
            "Requirement already satisfied: safetensors>=0.3.1 in /usr/local/lib/python3.10/dist-packages (from transformers) (0.3.1)\n",
            "Requirement already satisfied: tqdm>=4.27 in /usr/local/lib/python3.10/dist-packages (from transformers) (4.65.0)\n",
            "Requirement already satisfied: fsspec in /usr/local/lib/python3.10/dist-packages (from huggingface-hub<1.0,>=0.14.1->transformers) (2023.6.0)\n",
            "Requirement already satisfied: typing-extensions>=3.7.4.3 in /usr/local/lib/python3.10/dist-packages (from huggingface-hub<1.0,>=0.14.1->transformers) (4.7.1)\n",
            "Requirement already satisfied: urllib3<1.27,>=1.21.1 in /usr/local/lib/python3.10/dist-packages (from requests->transformers) (1.26.16)\n",
            "Requirement already satisfied: certifi>=2017.4.17 in /usr/local/lib/python3.10/dist-packages (from requests->transformers) (2023.5.7)\n",
            "Requirement already satisfied: charset-normalizer~=2.0.0 in /usr/local/lib/python3.10/dist-packages (from requests->transformers) (2.0.12)\n",
            "Requirement already satisfied: idna<4,>=2.5 in /usr/local/lib/python3.10/dist-packages (from requests->transformers) (3.4)\n"
          ]
        }
      ]
    },
    {
      "cell_type": "code",
      "source": [
        "from modelscope.pipelines import pipeline\n",
        "from modelscope.utils.constant import Tasks\n",
        "import numpy as np\n",
        "import cv2\n",
        "import math\n",
        "import pyclipper\n"
      ],
      "metadata": {
        "id": "A2DoSorNTxIG",
        "colab": {
          "base_uri": "https://localhost:8080/"
        },
        "outputId": "ab8bf1d3-f9be-4676-d5a7-3564a24b3dfb"
      },
      "execution_count": 5,
      "outputs": [
        {
          "output_type": "stream",
          "name": "stderr",
          "text": [
            "2023-07-13 17:32:41,318 - modelscope - INFO - PyTorch version 2.0.1+cu118 Found.\n",
            "2023-07-13 17:32:41,331 - modelscope - INFO - TensorFlow version 2.12.0 Found.\n",
            "2023-07-13 17:32:41,336 - modelscope - INFO - Loading ast index from /root/.cache/modelscope/ast_indexer\n",
            "2023-07-13 17:32:41,447 - modelscope - INFO - Loading done! Current index file version is 1.7.1, with md5 6110c6fa39783f3c1b4bb7e0d9b84fd0 and a total number of 861 components indexed\n"
          ]
        }
      ]
    },
    {
      "cell_type": "code",
      "source": [
        "# 在图片上定位文本位置\n",
        "def crop_image(img, position):\n",
        "    def distance(x1,y1,x2,y2):\n",
        "        return math.sqrt(pow(x1 - x2, 2) + pow(y1 - y2, 2))\n",
        "    position = position.tolist()\n",
        "    for i in range(4):\n",
        "        for j in range(i+1, 4):\n",
        "            if(position[i][0] > position[j][0]):\n",
        "                tmp = position[j]\n",
        "                position[j] = position[i]\n",
        "                position[i] = tmp\n",
        "    if position[0][1] > position[1][1]:\n",
        "        tmp = position[0]\n",
        "        position[0] = position[1]\n",
        "        position[1] = tmp\n",
        "\n",
        "    if position[2][1] > position[3][1]:\n",
        "        tmp = position[2]\n",
        "        position[2] = position[3]\n",
        "        position[3] = tmp\n",
        "\n",
        "    x1, y1 = position[0][0], position[0][1]\n",
        "    x2, y2 = position[2][0], position[2][1]\n",
        "    x3, y3 = position[3][0], position[3][1]\n",
        "    x4, y4 = position[1][0], position[1][1]\n",
        "\n",
        "    corners = np.zeros((4,2), np.float32)\n",
        "    corners[0] = [x1, y1]\n",
        "    corners[1] = [x2, y2]\n",
        "    corners[2] = [x4, y4]\n",
        "    corners[3] = [x3, y3]\n",
        "\n",
        "    img_width = distance((x1+x4)/2, (y1+y4)/2, (x2+x3)/2, (y2+y3)/2)\n",
        "    img_height = distance((x1+x2)/2, (y1+y2)/2, (x4+x3)/2, (y4+y3)/2)\n",
        "\n",
        "    corners_trans = np.zeros((4,2), np.float32)\n",
        "    corners_trans[0] = [0, 0]\n",
        "    corners_trans[1] = [img_width - 1, 0]\n",
        "    corners_trans[2] = [0, img_height - 1]\n",
        "    corners_trans[3] = [img_width - 1, img_height - 1]\n",
        "\n",
        "    transform = cv2.getPerspectiveTransform(corners, corners_trans)\n",
        "    dst = cv2.warpPerspective(img, transform, (int(img_width), int(img_height)))\n",
        "    return dst"
      ],
      "metadata": {
        "id": "EjjCt9YyT3Y6"
      },
      "execution_count": 6,
      "outputs": []
    },
    {
      "cell_type": "code",
      "source": [
        "def order_point(coor):\n",
        "    arr = np.array(coor).reshape([4, 2])\n",
        "    sum_ = np.sum(arr, 0)\n",
        "    centroid = sum_ / arr.shape[0]\n",
        "    theta = np.arctan2(arr[:, 1] - centroid[1], arr[:, 0] - centroid[0])\n",
        "    sort_points = arr[np.argsort(theta)]\n",
        "    sort_points = sort_points.reshape([4, -1])\n",
        "    if sort_points[0][0] > centroid[0]:\n",
        "        sort_points = np.concatenate([sort_points[3:], sort_points[:3]])\n",
        "    sort_points = sort_points.reshape([4, 2]).astype('float32')\n",
        "    return sort_points"
      ],
      "metadata": {
        "id": "srkXd83jT4Zd"
      },
      "execution_count": 7,
      "outputs": []
    },
    {
      "cell_type": "code",
      "source": [
        "#先检测图片中的文本位置\n",
        "ocr_detection = pipeline(Tasks.ocr_detection, model='damo/cv_resnet18_ocr-detection-line-level_damo')\n",
        "# ocr_detection = pipeline(Tasks.ocr_detection, model='damo/cv_resnet18_ocr-detection-line-level_damo')\n",
        "#ocr_detection = pipeline(Tasks.ocr_detection, model='damo/cv_resnet18_ocr-detection-db-line-level_damo')\n",
        "#基于文本位置，识别文本内容信息\n",
        "ocr_recognition = pipeline(Tasks.ocr_recognition, model='damo/cv_convnextTiny_ocr-recognition-general_damo')\n",
        "#文本属性识别\n",
        "ner_pipeline = pipeline(Tasks.named_entity_recognition, 'damo/nlp_raner_named-entity-recognition_chinese-base-ecom-50cls')\n"
      ],
      "metadata": {
        "id": "BJrFEJyDT8V1"
      },
      "execution_count": null,
      "outputs": []
    },
    {
      "cell_type": "code",
      "source": [
        "import cv2\n",
        "import numpy as np\n",
        "#将文本信息绘制回图片\n",
        "def draw_boxes_on_image(image_path, output_path, box_coordinates,label):\n",
        "\n",
        "# 读取图片\n",
        "    image = cv2.imread(image_path)\n",
        "\n",
        "    # 将框的坐标绘制到图片上\n",
        "    pts = np.array(box_coordinates, np.int32)\n",
        "    pts = pts.reshape((-1, 1, 2))\n",
        "    cv2.polylines(image, [pts], isClosed=True, color=(0, 0, 255), thickness=1)  # 修改线宽为1\n",
        "\n",
        "    # 在每个框的位置上增加序号标记\n",
        "    label = label\n",
        "    #cv2.putText(image, str(label), (int(box_coordinates[0]), int(box_coordinates[1])), cv2.FONT_HERSHEY_SIMPLEX, 1, (0, 0, 255), 1)\n",
        "\n",
        "    cv2.putText(image, str(label), (int(box_coordinates[0]), int(box_coordinates[1])),cv2.FONT_HERSHEY_SIMPLEX | cv2.FONT_ITALIC, 0.6, (0, 0, 255), 2)\n",
        "\n",
        "\n",
        "    # 保存修改后的图片\n",
        "    cv2.imwrite(output_path, image)"
      ],
      "metadata": {
        "id": "ww6NhiDTdBgW"
      },
      "execution_count": 9,
      "outputs": []
    },
    {
      "cell_type": "code",
      "source": [
        "import os\n",
        "#遍历目录读取图片\n",
        "def get_all_file_paths(directory):\n",
        "    file_paths = []\n",
        "    for root, dirs, files in os.walk(directory):\n",
        "        for file in files:\n",
        "            file_path = os.path.join(root, file)\n",
        "            file_paths.append(os.path.abspath(file_path))\n",
        "    return file_paths\n",
        "\n",
        "# 示例用法\n",
        "# directory = \"/content/drive/MyDrive/Colab Notebooks/modelscope/images\"\n",
        "# file_paths = get_all_file_paths(directory)\n",
        "# print(file_paths)"
      ],
      "metadata": {
        "id": "P_G-9HhgnZYD"
      },
      "execution_count": 10,
      "outputs": []
    },
    {
      "cell_type": "code",
      "source": [
        "#增加输出后缀\n",
        "import os\n",
        "\n",
        "def add_out_suffix(file_path):\n",
        "    dir_name = os.path.dirname(file_path)  # 获取文件所在目录路径\n",
        "    file_name = os.path.basename(file_path)  # 获取文件名称\n",
        "    file_name, extension = os.path.splitext(file_name)  # 将文件名称和扩展名拆分开\n",
        "\n",
        "    # 在文件所在路径的同级目录下创建一个名为 \"out\" 的文件夹\n",
        "    out_dir = os.path.join(os.path.dirname(dir_name), \"out\")\n",
        "    os.makedirs(out_dir, exist_ok=True)  # 创建 \"out\" 文件夹，如果已存在则不进行任何操作\n",
        "\n",
        "    # 在文件名称中添加 \"_out\" 后缀\n",
        "    new_file_name = file_name + \"_out\" + extension\n",
        "\n",
        "    # 构建新的文件路径\n",
        "    new_file_path = os.path.join(out_dir, new_file_name)\n",
        "\n",
        "    return new_file_path\n",
        "add_out_suffix('/content/drive/MyDrive/Colab Notebooks/modelscope/images/lamer.jpg')"
      ],
      "metadata": {
        "colab": {
          "base_uri": "https://localhost:8080/",
          "height": 35
        },
        "id": "UEPPGzOCn0no",
        "outputId": "a21ecbd1-79f2-4953-94c9-703ac2b459f1"
      },
      "execution_count": 11,
      "outputs": [
        {
          "output_type": "execute_result",
          "data": {
            "text/plain": [
              "'/content/drive/MyDrive/Colab Notebooks/modelscope/out/lamer_out.jpg'"
            ],
            "application/vnd.google.colaboratory.intrinsic+json": {
              "type": "string"
            }
          },
          "metadata": {},
          "execution_count": 11
        }
      ]
    },
    {
      "cell_type": "code",
      "source": [
        "#将解析到图片信息分行存储\n",
        "def save_text_to_string(saved_text,text):\n",
        "\n",
        "    saved_text += text + \"\\n\"  # 将每行文本追加到字符串，并添加换行符\n",
        "\n",
        "    return saved_text"
      ],
      "metadata": {
        "id": "ptZYSotTnvmc"
      },
      "execution_count": 12,
      "outputs": []
    },
    {
      "cell_type": "code",
      "source": [
        "#输出的图片和抽取的图片文字内容转换成excel输出\n",
        "\n",
        "import os\n",
        "import pandas as pd\n",
        "import openpyxl\n",
        "from openpyxl import Workbook\n",
        "from openpyxl.drawing.image import Image\n",
        "\n",
        "def append_to_excel(image_path, text, output_file):\n",
        "    output_dir = os.path.dirname(output_file)  # 获取输出文件所在目录路径\n",
        "    os.makedirs(output_dir, exist_ok=True)  # 创建输出目录，如果已存在则不进行任何操作\n",
        "\n",
        "    # 检查输出文件是否存在\n",
        "    file_exists = os.path.isfile(output_file)\n",
        "\n",
        "    # 加载Excel文件或创建新的工作簿和工作表\n",
        "    if file_exists:\n",
        "        wb = Workbook()\n",
        "        wb = openpyxl.load_workbook(output_file)\n",
        "        sheet = wb.active\n",
        "    else:\n",
        "        wb = Workbook()\n",
        "        sheet = wb.active\n",
        "        sheet.append(['Image', 'Text','Product'])\n",
        "\n",
        "    # 插入图片路径和文本信息到新行\n",
        "    row = sheet.max_row + 1\n",
        "    sheet['B' + str(row)].value = text\n",
        "    sheet.column_dimensions['B'].width = 80\n",
        "\n",
        "    # 插入图片到指定位置\n",
        "    img = Image(image_path)\n",
        "    sheet.add_image(img, 'A{}'.format(row))\n",
        "\n",
        "    # 缩小图片尺寸\n",
        "    img_width = img.width\n",
        "    img_height = img.height\n",
        "    # 调整单元格大小以适应缩小后的图片尺寸\n",
        "    sheet.column_dimensions['A'].width = 80 #img.width / 6  # 调整列宽\n",
        "    sheet.row_dimensions[row].height = img.height / 1.5  # 调整行高\n",
        "    img.width = int(img_width * 0.8)\n",
        "    img.height = int(img_height * 0.8)\n",
        "\n",
        "    # # 调整单元格大小以适应缩小后的图片尺寸\n",
        "    # sheet.column_dimensions['A'].width = img.width / 6  # 调整列宽\n",
        "    # sheet.row_dimensions[row].height = img.height / 1.5  # 调整行高\n",
        "\n",
        "    # 保存Excel文件\n",
        "    wb.save(output_file)\n",
        "\n",
        "\n"
      ],
      "metadata": {
        "id": "nI-d-Py0qejJ"
      },
      "execution_count": 13,
      "outputs": []
    },
    {
      "cell_type": "code",
      "source": [
        "import datetime\n",
        "#日期格式文件名生成\n",
        "def generate_file_name_with_date(extension):\n",
        "    current_datetime = datetime.datetime.now()\n",
        "    formatted_date = current_datetime.strftime(\"%Y-%m-%d\")\n",
        "    file_name = f\"output_{formatted_date}.{extension}\"\n",
        "    return file_name"
      ],
      "metadata": {
        "id": "EzTZeD2wtJUP"
      },
      "execution_count": 14,
      "outputs": []
    },
    {
      "cell_type": "code",
      "source": [
        "#产品数据输出\n",
        "\n",
        "import os\n",
        "import pandas as pd\n",
        "import openpyxl\n",
        "from openpyxl import Workbook\n",
        "from openpyxl.drawing.image import Image\n",
        "\n",
        "def append_product_excel(text, output_file):\n",
        "    output_dir = os.path.dirname(output_file)  # 获取输出文件所在目录路径\n",
        "    os.makedirs(output_dir, exist_ok=True)  # 创建输出目录，如果已存在则不进行任何操作\n",
        "\n",
        "    # 检查输出文件是否存在\n",
        "    file_exists = os.path.isfile(output_file)\n",
        "\n",
        "    # 加载Excel文件或创建新的工作簿和工作表\n",
        "    if file_exists:\n",
        "        wb = Workbook()\n",
        "        wb = openpyxl.load_workbook(output_file)\n",
        "        sheet = wb.active\n",
        "    else:\n",
        "        wb = Workbook()\n",
        "        sheet = wb.active\n",
        "        sheet.append(['Image', 'Text','Product'])\n",
        "\n",
        "    # 插入图片路径和文本信息到新行\n",
        "    row = sheet.max_row + 1\n",
        "    sheet['C' + str(row)].value = text\n",
        "\n",
        "\n",
        "    # 保存Excel文件\n",
        "    wb.save(output_file)"
      ],
      "metadata": {
        "id": "2qhpQRRtYncQ"
      },
      "execution_count": null,
      "outputs": []
    },
    {
      "cell_type": "code",
      "source": [
        "\n",
        "\n",
        "import numpy as np\n",
        "\n",
        "def box_center(box):\n",
        "    \"\"\"计算框的中心点坐标\"\"\"\n",
        "    x = np.mean(box[::2])\n",
        "    y = np.mean(box[1::2])\n",
        "    return x, y\n",
        "\n",
        "#找尺寸相关标签的最近列\n",
        "def find_closest_above(boxes, target_box):\n",
        "    \"\"\"找出在给定框正上方且距离最近的框\"\"\"\n",
        "    target_center = box_center(target_box)\n",
        "    closest_box = None\n",
        "    closest_center_dist = np.inf\n",
        "    for box in boxes:\n",
        "        center_x, center_y = box_center(box)\n",
        "        if center_y < target_center[1]:  # 如果框在给定框的正上方\n",
        "            dist = np.sqrt((center_x - target_center[0])**2 + (center_y - target_center[1])**2)  # 计算欧氏距离\n",
        "            if dist < closest_center_dist:\n",
        "                closest_center_dist = dist\n",
        "                closest_box = box\n",
        "    return closest_box\n",
        "\n",
        "\n",
        "\n",
        "# 假设你的框在数组boxes中，你想找到在target_box上方的框\n",
        "# boxes = np.array([472, 659, 524, 659, 524, 674, 472, 674])  # 你的框数组\n",
        "# boxes = np.array([\n",
        "#     [137, 649, 213, 648, 214, 657, 138, 658],\n",
        "#     [473, 634, 525, 634, 525, 652, 473, 653],\n",
        "#     [276, 662, 400, 662, 400, 684, 276, 684]\n",
        "\n",
        "# ])\n",
        "# target_box = np.array([474.0,659.0,524.0,659.0,524.0,673.0,474.0,673.0])  # 你的目标框\n",
        "# closest_box = find_closest_above(boxes, target_box)\n",
        "# print(closest_box)\n",
        "# string = ', '.join(map(str, closest_box))\n",
        "# print(dict_data[string])\n"
      ],
      "metadata": {
        "id": "XG_a1_rak1w3"
      },
      "execution_count": null,
      "outputs": []
    },
    {
      "cell_type": "code",
      "source": [
        "#解析所有商品增加进商品列\n",
        "def find_product(output_file):\n",
        "  # print(len(product_arr))\n",
        "  # print(dict_data)\n",
        "  for pro in product_arr:\n",
        "    closest_box = find_closest_above(det_result, pro)\n",
        "    # print(closest_box)\n",
        "    close_str= ', '.join(map(str, closest_box))\n",
        "    pro_int = [int(x) for x in pro]\n",
        "    pro_str = ', '.join(map(str, pro_int))\n",
        "    # print(pro_str)\n",
        "    # print(dict_data[close_str])\n",
        "    # print(dict_data[pro_str])\n",
        "    dict_data[close_str]=dict_data[close_str]+dict_data[pro_str]\n",
        "  # print(dict_data)\n",
        "  str_result=''\n",
        "  for value in dict_data.values():\n",
        "    result= ner_pipeline(value)\n",
        "    # print(result)\n",
        "    check=0\n",
        "    for item in result['output']:\n",
        "      if '产品_核心产品' in item[\"type\"]:\n",
        "        check+=1\n",
        "      if '尺寸规格' in item[\"type\"]:\n",
        "        check+=1\n",
        "      if check>=2:\n",
        "        str_result+=value+'\\n'\n",
        "        break\n",
        "  append_product_excel(str_result,output_file)\n",
        "  print(str_result,output_file)\n"
      ],
      "metadata": {
        "id": "8GCrWIEfZqeC"
      },
      "execution_count": null,
      "outputs": []
    },
    {
      "cell_type": "code",
      "source": [
        "#获取目录下的所有需要解析的图片\n",
        "image_files=get_all_file_paths('/content/drive/MyDrive/Colab Notebooks/modelscope/images')\n",
        "#图片中解析的文本信息存储在这个字段\n",
        "\n",
        "#文件输出路径\n",
        "file_out='/content/drive/MyDrive/Colab Notebooks/modelscope/excel/'+\"\"+generate_file_name_with_date('xlsx')\n",
        "for img_path in image_files:\n",
        "  text_parsing=\"\"\n",
        "  #图片路径或者提供URL\n",
        "  img_path = img_path\n",
        "  #转换未来图片的输出路径\n",
        "  out_path = add_out_suffix(img_path)\n",
        "  image_full = cv2.imread(img_path)\n",
        "  #图片输出路径\n",
        "  cv2.imwrite(out_path, image_full)\n",
        "  # #也可以提供URL\n",
        "  # img_url='https://modelscope.oss-cn-beijing.aliyuncs.com/test/images/ocr_detection.jpg'\n",
        "\n",
        "  #图片位置\n",
        "  det_result = ocr_detection(image_full)\n",
        "\n",
        "  det_result = det_result['polygons']\n",
        "  dict_data={}\n",
        "  product_arr=[]\n",
        "  for i in range(det_result.shape[0]):\n",
        "      pts = order_point(det_result[i])\n",
        "      #图片位置\n",
        "      image_crop = crop_image(image_full, pts)\n",
        "      result = ocr_recognition(image_crop)\n",
        "      #print(list(pts.reshape(-1)))\n",
        "      # 读取图片\n",
        "      image = cv2.imread(out_path)\n",
        "\n",
        "      # 定义文本信息和框的坐标\n",
        "      box_coordinates = list(pts.reshape(-1))\n",
        "\n",
        "      # 将文本信息和框的坐标绘制到图片上\n",
        "      draw_boxes_on_image(out_path, out_path, box_coordinates,i+1)\n",
        "\n",
        "      print(\"box: %s\" % ', '.join([str(int(e)) for e in list(pts.reshape(-1))]))\n",
        "\n",
        "      print(\"text: %s. %s\" % ((i+1),result['text']))\n",
        "\n",
        "      #识别出来的文本内容\n",
        "      word_content=\"\".join(result['text'])\n",
        "      #框的位置\n",
        "      frame_location=', '.join([str(int(e)) for e in list(pts.reshape(-1))])\n",
        "      #识别文本属性\n",
        "      # result = ner_pipeline('云绒霜')\n",
        "      if word_content !='':\n",
        "        result= ner_pipeline(word_content)\n",
        "        #print(result)\n",
        "        if len(result['output'])==1 and '尺寸规格' in result['output'][0]['type']:\n",
        "          product_arr.append(list(pts.reshape(-1)))\n",
        "      dict_data[frame_location]=word_content\n",
        "      text_parsing = save_text_to_string(text_parsing, str(i+1) + \".\" + word_content)\n",
        "     #text_parsing=save_text_to_string(text_parsing,str(i+1)+\".\"+result['text'])\n",
        "\n",
        "  append_to_excel(out_path,text_parsing,file_out)\n",
        "  find_product(file_out)\n",
        "\n",
        ""
      ],
      "metadata": {
        "id": "w5e_EsktT-U8"
      },
      "execution_count": null,
      "outputs": []
    },
    {
      "cell_type": "markdown",
      "source": [
        "*加入产品的新列*\n"
      ],
      "metadata": {
        "id": "K7bZVxV5YtfU"
      }
    },
    {
      "cell_type": "markdown",
      "source": [],
      "metadata": {
        "id": "qwFDAwjqKPXa"
      }
    },
    {
      "cell_type": "markdown",
      "source": [],
      "metadata": {
        "id": "KtBzVJNZKPU9"
      }
    },
    {
      "cell_type": "markdown",
      "source": [],
      "metadata": {
        "id": "GB7kzSkrKPSa"
      }
    },
    {
      "cell_type": "markdown",
      "source": [],
      "metadata": {
        "id": "vuR4kXE8KPQR"
      }
    },
    {
      "cell_type": "markdown",
      "source": [],
      "metadata": {
        "id": "ZRdnWV8DKPNr"
      }
    },
    {
      "cell_type": "markdown",
      "source": [],
      "metadata": {
        "id": "Wc5corSiKPJP"
      }
    },
    {
      "cell_type": "markdown",
      "source": [],
      "metadata": {
        "id": "IYeNRVgSKPGa"
      }
    },
    {
      "cell_type": "markdown",
      "source": [],
      "metadata": {
        "id": "ooRXR5lkKPDi"
      }
    },
    {
      "cell_type": "markdown",
      "source": [],
      "metadata": {
        "id": "AKtAhIC2KO_n"
      }
    },
    {
      "cell_type": "markdown",
      "source": [],
      "metadata": {
        "id": "yrLDnpEJKO9C"
      }
    },
    {
      "cell_type": "markdown",
      "source": [],
      "metadata": {
        "id": "5gvWxKI0KO6j"
      }
    },
    {
      "cell_type": "code",
      "source": [
        "from google.colab import drive\n",
        "drive.mount('/content/drive')"
      ],
      "metadata": {
        "id": "Fs8KWrHvh0xk"
      },
      "execution_count": null,
      "outputs": []
    },
    {
      "cell_type": "code",
      "source": [
        "def find_same_column_and_vertical_nearby_boxes(boxes, column_threshold, vertical_threshold):\n",
        "    same_column_boxes = []\n",
        "    nearby_boxes = {'vertical': []}\n",
        "    num_boxes = len(boxes)\n",
        "\n",
        "    for i in range(num_boxes):\n",
        "        for j in range(i + 1, num_boxes):\n",
        "            box1 = boxes[i]\n",
        "            box2 = boxes[j]\n",
        "\n",
        "            # 判断框1和框2是否在同一列\n",
        "            if abs(box1[0] - box2[0]) <= column_threshold:\n",
        "                # 判断框1和框2是否在垂直方向上邻近\n",
        "                if abs(box1[1] - box2[1]) <= vertical_threshold or abs(box1[3] - box2[3]) <= vertical_threshold:\n",
        "                    same_column_boxes.append((i, j))\n",
        "                    nearby_boxes['vertical'].append((i, j))\n",
        "\n",
        "    return same_column_boxes, nearby_boxes\n",
        "\n",
        "boxes = [\n",
        "\n",
        "    [472, 659, 524, 659, 524, 674, 472, 674],\n",
        "\n",
        "    [468, 634, 525, 634, 525, 653, 468, 653]\n",
        "]\n",
        "\n",
        "column_threshold = 10  # 判断同一列的阈值\n",
        "vertical_threshold = 10  # 判断上下邻近的阈值\n",
        "\n",
        "same_column_boxes, nearby_boxes_vertical = find_same_column_and_vertical_nearby_boxes(\n",
        "    boxes, column_threshold, vertical_threshold\n",
        ")\n",
        "\n",
        "print(\"Same column and vertical nearby boxes:\")\n",
        "for pair in same_column_boxes:\n",
        "    print(boxes[pair[0]], boxes[pair[1]])\n",
        "\n",
        "print(\"\\nVertical nearby boxes:\")\n",
        "for pair in nearby_boxes_vertical['vertical']:\n",
        "    print(boxes[pair[0]], boxes[pair[1]])\n"
      ],
      "metadata": {
        "colab": {
          "base_uri": "https://localhost:8080/"
        },
        "id": "EweX5oF66wyA",
        "outputId": "decfc189-1fc8-4cbe-c45a-2752f12fcfe9"
      },
      "execution_count": 54,
      "outputs": [
        {
          "output_type": "stream",
          "name": "stdout",
          "text": [
            "Same column and vertical nearby boxes:\n",
            "\n",
            "Vertical nearby boxes:\n"
          ]
        }
      ]
    },
    {
      "cell_type": "code",
      "source": [
        "det_result\n",
        "\n",
        "#dict_data"
      ],
      "metadata": {
        "colab": {
          "base_uri": "https://localhost:8080/"
        },
        "id": "L6TKoyuWmf-g",
        "outputId": "25eb0768-0d79-4d41-a41a-2d0153e3ee98"
      },
      "execution_count": 40,
      "outputs": [
        {
          "output_type": "execute_result",
          "data": {
            "text/plain": [
              "array([[532, 777, 729, 779, 728, 795, 530, 792],\n",
              "       [ 67, 778, 536, 778, 536, 793,  67, 793],\n",
              "       [276, 662, 400, 662, 400, 684, 276, 684],\n",
              "       [472, 659, 524, 659, 524, 674, 472, 674],\n",
              "       [688, 657, 739, 657, 739, 676, 688, 676],\n",
              "       [584, 658, 620, 658, 620, 676, 584, 676],\n",
              "       [136, 646, 229, 646, 229, 661, 136, 661],\n",
              "       [685, 633, 740, 633, 740, 652, 685, 652],\n",
              "       [573, 634, 627, 634, 627, 653, 573, 653],\n",
              "       [468, 634, 525, 634, 525, 653, 468, 653],\n",
              "       [130, 634, 202, 637, 201, 648, 129, 645],\n",
              "       [560, 610, 634, 610, 634, 625, 560, 625],\n",
              "       [698, 602, 728, 602, 728, 613, 698, 613],\n",
              "       [580, 601, 620, 601, 620, 613, 580, 613],\n",
              "       [493, 571, 524, 571, 524, 582, 493, 582],\n",
              "       [460, 571, 489, 571, 489, 582, 460, 582],\n",
              "       [357, 554, 372, 554, 372, 612, 357, 612],\n",
              "       [663, 503, 758, 503, 758, 517, 663, 517],\n",
              "       [124, 488, 226, 488, 226, 511, 124, 511],\n",
              "       [357, 483, 373, 483, 373, 523, 357, 523],\n",
              "       [668, 473, 753, 473, 753, 491, 668, 491],\n",
              "       [258, 433, 320, 436, 318, 461, 257, 458],\n",
              "       [335, 425, 354, 432, 338, 480, 318, 474],\n",
              "       [212, 378, 790, 362, 791, 417, 213, 434],\n",
              "       [351, 336, 404, 336, 404, 352, 351, 352],\n",
              "       [271, 333, 323, 333, 323, 348, 271, 348],\n",
              "       [493, 329, 564, 329, 564, 340, 493, 340],\n",
              "       [588, 324, 679, 324, 679, 342, 588, 342],\n",
              "       [512, 318, 547, 318, 547, 330, 512, 330],\n",
              "       [589, 307, 678, 307, 678, 322, 589, 322],\n",
              "       [583, 282, 686, 278, 687, 301, 584, 304],\n",
              "       [239, 188, 598, 191, 597, 221, 238, 217],\n",
              "       [152, 112, 404, 112, 404, 165, 152, 165],\n",
              "       [434, 111, 686, 111, 686, 163, 434, 163],\n",
              "       [ 26,  27, 217,  27, 217,  64,  26,  64]])"
            ]
          },
          "metadata": {},
          "execution_count": 40
        }
      ]
    },
    {
      "cell_type": "code",
      "source": [
        "import math\n",
        "\n",
        "def calculate_center(box):\n",
        "    x1, y1, x2, y2, x3, y3, x4, y4 = box\n",
        "    center_x = (x1 + x3) / 2\n",
        "    center_y = (y1 + y3) / 2\n",
        "    return center_x, center_y\n",
        "\n",
        "\n",
        "def is_same_row(box1, box2, threshold):\n",
        "    center1 = calculate_center(box1)\n",
        "    center2 = calculate_center(box2)\n",
        "    distance = math.sqrt((center1[0] - center2[0]) ** 2 + (center1[1] - center2[1]) ** 2)\n",
        "    return abs(center1[1] - center2[1]) <= threshold and distance <= threshold\n",
        "\n",
        "\n",
        "def find_same_row_boxes(boxes, threshold):\n",
        "    same_row_boxes = []\n",
        "    num_boxes = len(boxes)\n",
        "\n",
        "    for i in range(num_boxes):\n",
        "        for j in range(i + 1, num_boxes):\n",
        "            box1 = boxes[i]\n",
        "            box2 = boxes[j]\n",
        "            if is_same_row(box1, box2, threshold):\n",
        "                same_row_boxes.append((i, j))\n",
        "\n",
        "    return same_row_boxes\n",
        "\n",
        "\n",
        "def find_nearby_column_boxes(boxes, threshold):\n",
        "    nearby_column_boxes = []\n",
        "    num_boxes = len(boxes)\n",
        "\n",
        "    for i in range(num_boxes):\n",
        "        for j in range(i + 1, num_boxes):\n",
        "            box1 = boxes[i]\n",
        "            box2 = boxes[j]\n",
        "            if abs(box1[0] - box2[0]) <= threshold:  # 判断 x 坐标差值是否小于阈值\n",
        "                nearby_column_boxes.append((i, j))\n",
        "\n",
        "    return nearby_column_boxes\n",
        "\n",
        "\n",
        "\n",
        "\n",
        "same_row_threshold = 20  # 判断同一行的阈值\n",
        "nearby_column_threshold = 5  # 判断上下具体很近的同一列的阈值\n",
        "\n",
        "same_row_boxes = find_same_row_boxes(det_result, same_row_threshold)\n",
        "nearby_column_boxes = find_nearby_column_boxes(det_result, nearby_column_threshold)\n",
        "\n",
        "\n",
        "\n",
        "\n",
        "print(\"Same row boxes:\")\n",
        "for row in same_row_boxes:\n",
        "    print(det_result[row[0]])\n",
        "\n",
        "print(\"\\nNearby column boxes:\")\n",
        "for col in nearby_column_boxes:\n",
        "    print(det_result[col[0]], det_result[col[1]])\n",
        "\n"
      ],
      "metadata": {
        "colab": {
          "base_uri": "https://localhost:8080/"
        },
        "id": "T_yoznLNmVHu",
        "outputId": "a1147e12-915c-49a7-e3d1-d9896a158e5f"
      },
      "execution_count": 38,
      "outputs": [
        {
          "output_type": "stream",
          "name": "stdout",
          "text": [
            "Same row boxes:\n",
            "[560 610 634 610 634 625 560 625]\n",
            "[493 329 564 329 564 340 493 340]\n",
            "[588 324 679 324 679 342 588 342]\n",
            "\n",
            "Nearby column boxes:\n",
            "[276 662 400 662 400 684 276 684] [271 333 323 333 323 348 271 348]\n",
            "[472 659 524 659 524 674 472 674] [468 634 525 634 525 653 468 653]\n",
            "[688 657 739 657 739 676 688 676] [685 633 740 633 740 652 685 652]\n",
            "[584 658 620 658 620 676 584 676] [580 601 620 601 620 613 580 613]\n",
            "[584 658 620 658 620 676 584 676] [588 324 679 324 679 342 588 342]\n",
            "[584 658 620 658 620 676 584 676] [589 307 678 307 678 322 589 322]\n",
            "[584 658 620 658 620 676 584 676] [583 282 686 278 687 301 584 304]\n",
            "[580 601 620 601 620 613 580 613] [583 282 686 278 687 301 584 304]\n",
            "[493 571 524 571 524 582 493 582] [493 329 564 329 564 340 493 340]\n",
            "[357 554 372 554 372 612 357 612] [357 483 373 483 373 523 357 523]\n",
            "[663 503 758 503 758 517 663 517] [668 473 753 473 753 491 668 491]\n",
            "[588 324 679 324 679 342 588 342] [589 307 678 307 678 322 589 322]\n",
            "[588 324 679 324 679 342 588 342] [583 282 686 278 687 301 584 304]\n"
          ]
        }
      ]
    },
    {
      "cell_type": "code",
      "source": [
        "det_result"
      ],
      "metadata": {
        "colab": {
          "base_uri": "https://localhost:8080/"
        },
        "id": "YVzRoY0Cw18k",
        "outputId": "abe5b0cf-fb8f-4df4-e454-b3acbe2121ce"
      },
      "execution_count": 39,
      "outputs": [
        {
          "output_type": "execute_result",
          "data": {
            "text/plain": [
              "array([[532, 777, 729, 779, 728, 795, 530, 792],\n",
              "       [ 67, 778, 536, 778, 536, 793,  67, 793],\n",
              "       [276, 662, 400, 662, 400, 684, 276, 684],\n",
              "       [472, 659, 524, 659, 524, 674, 472, 674],\n",
              "       [688, 657, 739, 657, 739, 676, 688, 676],\n",
              "       [584, 658, 620, 658, 620, 676, 584, 676],\n",
              "       [136, 646, 229, 646, 229, 661, 136, 661],\n",
              "       [685, 633, 740, 633, 740, 652, 685, 652],\n",
              "       [573, 634, 627, 634, 627, 653, 573, 653],\n",
              "       [468, 634, 525, 634, 525, 653, 468, 653],\n",
              "       [130, 634, 202, 637, 201, 648, 129, 645],\n",
              "       [560, 610, 634, 610, 634, 625, 560, 625],\n",
              "       [698, 602, 728, 602, 728, 613, 698, 613],\n",
              "       [580, 601, 620, 601, 620, 613, 580, 613],\n",
              "       [493, 571, 524, 571, 524, 582, 493, 582],\n",
              "       [460, 571, 489, 571, 489, 582, 460, 582],\n",
              "       [357, 554, 372, 554, 372, 612, 357, 612],\n",
              "       [663, 503, 758, 503, 758, 517, 663, 517],\n",
              "       [124, 488, 226, 488, 226, 511, 124, 511],\n",
              "       [357, 483, 373, 483, 373, 523, 357, 523],\n",
              "       [668, 473, 753, 473, 753, 491, 668, 491],\n",
              "       [258, 433, 320, 436, 318, 461, 257, 458],\n",
              "       [335, 425, 354, 432, 338, 480, 318, 474],\n",
              "       [212, 378, 790, 362, 791, 417, 213, 434],\n",
              "       [351, 336, 404, 336, 404, 352, 351, 352],\n",
              "       [271, 333, 323, 333, 323, 348, 271, 348],\n",
              "       [493, 329, 564, 329, 564, 340, 493, 340],\n",
              "       [588, 324, 679, 324, 679, 342, 588, 342],\n",
              "       [512, 318, 547, 318, 547, 330, 512, 330],\n",
              "       [589, 307, 678, 307, 678, 322, 589, 322],\n",
              "       [583, 282, 686, 278, 687, 301, 584, 304],\n",
              "       [239, 188, 598, 191, 597, 221, 238, 217],\n",
              "       [152, 112, 404, 112, 404, 165, 152, 165],\n",
              "       [434, 111, 686, 111, 686, 163, 434, 163],\n",
              "       [ 26,  27, 217,  27, 217,  64,  26,  64]])"
            ]
          },
          "metadata": {},
          "execution_count": 39
        }
      ]
    },
    {
      "cell_type": "code",
      "source": [
        "# 计算每个框的中心点坐标\n",
        "# 定义阈值\n",
        "thresh = 20\n",
        "edges = np.zeros((det_result.shape[0], 4))\n",
        "for i, box in enumerate(det_result):\n",
        "    left = box[0]\n",
        "    top = box[1]\n",
        "    right = box[4]\n",
        "    bottom = box[5]\n",
        "    edges[i] = [left, top, right, bottom]\n",
        "\n",
        "# 对于每对框，如果它们的边缘中点在x或y方向上的距离小于阈值，则认为它们在同一行或列\n",
        "same_row = []\n",
        "same_column = []\n",
        "for i in range(len(edges)):\n",
        "    for j in range(i + 1, len(edges)):\n",
        "        # 在同一行的条件是上下边缘相近\n",
        "        if abs(edges[i, 1] - edges[j, 1]) < thresh and abs(edges[i, 3] - edges[j, 3]) < thresh:\n",
        "            same_row.append((i, j))\n",
        "        # 在同一列的条件是左右边缘相近\n",
        "        if abs(edges[i, 0] - edges[j, 0]) < thresh and abs(edges[i, 2] - edges[j, 2]) < thresh:\n",
        "            same_column.append((i, j))\n",
        "\n",
        "print('在同一行的框的索引对：', same_row)\n",
        "print('在同一列的框的索引对：', same_column)"
      ],
      "metadata": {
        "colab": {
          "base_uri": "https://localhost:8080/"
        },
        "id": "ehORAO_WlqSp",
        "outputId": "493bc9dc-3533-4ad6-e57d-9c8ceaf18d4d"
      },
      "execution_count": 19,
      "outputs": [
        {
          "output_type": "stream",
          "name": "stdout",
          "text": [
            "在同一行的框的索引对： [(1, 2), (1, 3), (2, 3), (7, 8), (11, 12), (11, 13), (11, 14), (12, 13), (12, 14), (13, 14), (13, 15), (13, 16), (13, 17), (13, 18), (13, 19), (14, 15), (14, 16), (14, 17), (14, 18), (14, 19), (15, 16), (15, 17), (15, 18), (15, 19), (16, 17), (16, 18), (16, 19), (17, 18), (17, 19), (18, 19), (21, 22), (24, 25), (29, 30), (32, 33), (37, 38), (43, 44), (62, 63), (62, 64), (62, 65), (63, 64), (63, 65), (64, 65), (66, 67), (68, 69), (70, 71), (70, 72), (71, 72), (73, 74), (76, 77), (76, 78), (76, 79), (77, 78), (77, 79), (78, 79), (80, 81), (80, 82), (80, 83), (81, 82), (81, 83), (82, 83), (84, 85), (84, 86), (84, 87), (84, 88), (85, 86), (85, 87), (85, 88), (86, 87), (86, 88), (87, 88), (89, 90), (89, 91), (89, 92), (89, 93), (90, 91), (90, 92), (90, 93), (91, 92), (91, 93), (92, 93), (94, 95), (94, 96), (94, 97), (94, 98), (95, 96), (95, 97), (95, 98), (96, 97), (96, 98), (97, 98), (99, 100), (99, 101), (99, 102), (99, 103), (100, 101), (100, 102), (100, 103), (101, 102), (101, 103), (102, 103), (104, 105), (104, 106), (104, 107), (104, 108), (104, 109), (105, 106), (105, 107), (105, 108), (105, 109), (105, 110), (106, 107), (106, 108), (106, 109), (106, 110), (107, 108), (107, 109), (107, 110), (108, 109), (108, 110), (109, 110), (111, 112), (111, 113), (111, 114), (111, 115), (111, 116), (112, 113), (112, 114), (112, 115), (112, 116), (113, 114), (113, 115), (113, 116), (114, 115), (114, 116), (115, 116), (117, 118), (117, 119), (117, 120), (117, 121), (118, 119), (118, 120), (118, 121), (119, 120), (119, 121), (120, 121), (122, 123), (122, 124), (122, 125), (122, 126), (122, 127), (123, 124), (123, 125), (123, 126), (123, 127), (124, 125), (124, 126), (124, 127), (125, 126), (125, 127), (126, 127), (128, 129), (128, 130), (128, 131), (128, 132), (128, 133), (129, 130), (129, 131), (129, 132), (129, 133), (130, 131), (130, 132), (130, 133), (131, 132), (131, 133), (132, 133), (134, 135), (134, 136), (134, 137), (134, 138), (135, 136), (135, 137), (135, 138), (135, 139), (136, 137), (136, 138), (136, 139), (137, 138), (137, 139), (138, 139), (140, 141), (142, 143), (142, 144), (142, 145), (142, 146), (143, 144), (143, 145), (143, 146), (144, 145), (144, 146), (145, 146), (147, 148), (147, 149), (147, 150), (147, 151), (147, 152), (147, 153), (148, 149), (148, 150), (148, 151), (148, 152), (148, 153), (149, 150), (149, 151), (149, 152), (149, 153), (150, 151), (150, 152), (150, 153), (151, 152), (151, 153), (152, 153), (154, 155), (154, 156), (154, 157), (154, 158), (154, 159), (155, 156), (155, 157), (155, 158), (155, 159), (156, 157), (156, 158), (156, 159), (157, 158), (157, 159), (158, 159), (160, 161), (160, 162), (160, 163), (160, 164), (160, 165), (160, 166), (161, 162), (161, 163), (161, 164), (161, 165), (161, 166), (162, 163), (162, 164), (162, 165), (162, 166), (163, 164), (163, 165), (163, 166), (164, 165), (164, 166), (165, 166), (167, 168), (167, 169), (167, 170), (167, 171), (167, 172), (168, 169), (168, 170), (168, 171), (168, 172), (169, 170), (169, 171), (169, 172), (170, 171), (170, 172), (171, 172), (173, 174), (173, 175), (173, 176), (173, 177), (174, 175), (174, 176), (174, 177), (175, 176), (175, 177), (176, 177), (178, 179), (178, 180), (178, 181), (178, 182), (178, 183), (178, 184), (178, 185), (178, 186), (178, 187), (179, 180), (179, 181), (179, 182), (179, 183), (179, 184), (179, 185), (179, 186), (179, 187), (180, 181), (180, 182), (180, 183), (180, 184), (180, 185), (180, 186), (180, 187), (181, 182), (181, 183), (181, 184), (181, 185), (181, 186), (181, 187), (182, 183), (182, 184), (182, 185), (182, 186), (182, 187), (183, 184), (183, 185), (183, 186), (183, 187), (184, 185), (184, 186), (184, 187), (185, 186), (185, 187), (186, 187), (189, 190), (189, 191), (189, 192), (189, 193), (189, 194), (189, 195), (189, 196), (189, 197), (190, 191), (190, 192), (190, 193), (190, 194), (190, 195), (190, 196), (190, 197), (191, 192), (191, 193), (191, 194), (191, 195), (191, 196), (191, 197), (192, 193), (192, 194), (192, 195), (192, 196), (192, 197), (193, 194), (193, 195), (193, 196), (193, 197), (194, 195), (194, 196), (194, 197), (195, 196), (195, 197), (196, 197), (198, 199), (198, 200), (198, 201), (198, 202), (198, 203), (198, 204), (198, 205), (198, 206), (199, 200), (199, 201), (199, 202), (199, 203), (199, 204), (199, 205), (199, 206), (200, 201), (200, 202), (200, 203), (200, 204), (200, 205), (200, 206), (201, 202), (201, 203), (201, 204), (201, 205), (201, 206), (202, 203), (202, 204), (202, 205), (202, 206), (203, 204), (203, 205), (203, 206), (204, 205), (204, 206), (205, 206), (207, 208), (207, 209), (207, 210), (207, 211), (207, 212), (207, 213), (207, 214), (208, 209), (208, 210), (208, 211), (208, 212), (208, 213), (208, 214), (209, 210), (209, 211), (209, 212), (209, 213), (209, 214), (210, 211), (210, 212), (210, 213), (210, 214), (211, 212), (211, 213), (211, 214), (212, 213), (212, 214), (213, 214), (215, 216), (215, 217), (215, 218), (215, 219), (215, 220), (215, 221), (215, 222), (215, 223), (216, 217), (216, 218), (216, 219), (216, 220), (216, 221), (216, 222), (216, 223), (217, 218), (217, 219), (217, 220), (217, 221), (217, 222), (217, 223), (218, 219), (218, 220), (218, 221), (218, 222), (218, 223), (219, 220), (219, 221), (219, 222), (219, 223), (220, 221), (220, 222), (220, 223), (221, 222), (221, 223), (222, 223), (224, 225), (224, 226), (224, 227), (224, 228), (224, 229), (224, 230), (224, 231), (224, 232), (225, 226), (225, 227), (225, 228), (225, 229), (225, 230), (225, 231), (225, 232), (226, 227), (226, 228), (226, 229), (226, 230), (226, 231), (226, 232), (227, 228), (227, 229), (227, 230), (227, 231), (227, 232), (228, 229), (228, 230), (228, 231), (228, 232), (229, 230), (229, 231), (229, 232), (230, 231), (230, 232), (231, 232), (233, 234), (233, 235), (233, 236), (233, 237), (233, 238), (233, 239), (234, 235), (234, 236), (234, 237), (234, 238), (234, 239), (234, 240), (235, 236), (235, 237), (235, 238), (235, 239), (235, 240), (236, 237), (236, 238), (236, 239), (236, 240), (237, 238), (237, 239), (237, 240), (238, 239), (238, 240), (239, 240), (241, 242), (241, 243), (241, 244), (241, 245), (241, 246), (242, 243), (242, 244), (242, 245), (242, 246), (243, 244), (243, 245), (243, 246), (244, 245), (244, 246), (245, 246), (247, 248), (247, 249), (247, 250), (248, 249), (248, 250), (249, 250), (251, 252), (251, 253), (251, 254), (251, 255), (251, 256), (252, 253), (252, 254), (252, 255), (252, 256), (253, 254), (253, 255), (253, 256), (254, 255), (254, 256), (255, 256), (257, 258), (259, 260), (259, 261), (260, 261), (262, 263), (264, 265), (266, 267), (269, 270), (269, 271), (270, 271), (272, 273), (278, 279), (278, 280), (279, 280), (282, 283), (282, 284), (282, 285), (282, 286), (282, 287), (283, 284), (283, 285), (283, 286), (283, 287), (284, 285), (284, 286), (284, 287), (285, 286), (285, 287), (286, 287), (288, 289), (288, 290), (289, 290), (295, 296), (303, 304), (307, 308), (308, 309), (312, 313), (314, 315), (314, 316), (315, 316), (315, 317), (320, 321), (320, 322), (320, 323), (321, 322), (321, 323), (322, 323), (324, 325), (324, 326), (324, 327), (324, 328), (325, 326), (325, 327), (325, 328), (326, 327), (326, 328), (327, 328), (329, 330)]\n",
            "在同一列的框的索引对： [(0, 5), (0, 6), (0, 8), (0, 30), (0, 240), (0, 258), (0, 263), (0, 265), (0, 274), (0, 275), (2, 287), (2, 289), (3, 276), (3, 278), (3, 281), (3, 301), (3, 306), (4, 141), (5, 6), (5, 41), (5, 42), (5, 60), (5, 61), (5, 178), (5, 189), (5, 198), (5, 240), (5, 258), (5, 263), (5, 265), (5, 274), (5, 275), (5, 297), (5, 298), (6, 178), (6, 240), (6, 258), (6, 263), (6, 265), (6, 274), (6, 275), (8, 12), (8, 14), (8, 19), (8, 101), (8, 146), (8, 147), (8, 154), (8, 160), (8, 167), (8, 173), (8, 189), (8, 198), (8, 207), (8, 215), (8, 224), (8, 233), (8, 240), (8, 258), (8, 263), (8, 265), (8, 274), (8, 275), (8, 297), (8, 321), (10, 293), (10, 294), (11, 13), (11, 16), (11, 20), (11, 88), (11, 97), (11, 100), (11, 105), (11, 113), (11, 119), (11, 124), (11, 129), (11, 137), (11, 161), (11, 181), (11, 192), (11, 204), (11, 209), (11, 221), (11, 226), (11, 234), (11, 243), (11, 252), (11, 257), (12, 14), (12, 19), (12, 41), (12, 42), (12, 43), (12, 60), (12, 61), (12, 62), (12, 79), (12, 81), (12, 85), (12, 92), (12, 96), (12, 101), (12, 104), (12, 109), (12, 111), (12, 117), (12, 122), (12, 128), (12, 134), (12, 146), (12, 147), (12, 154), (12, 160), (12, 167), (12, 173), (12, 187), (12, 189), (12, 197), (12, 198), (12, 206), (12, 207), (12, 215), (12, 223), (12, 224), (12, 233), (12, 241), (12, 248), (12, 255), (12, 297), (12, 298), (12, 299), (12, 321), (12, 325), (13, 16), (13, 20), (13, 88), (13, 93), (13, 97), (13, 105), (13, 113), (13, 119), (13, 124), (13, 129), (13, 137), (13, 144), (13, 150), (13, 161), (13, 181), (13, 192), (13, 204), (13, 209), (13, 221), (13, 226), (13, 234), (13, 243), (13, 252), (13, 257), (14, 19), (14, 41), (14, 42), (14, 60), (14, 61), (14, 79), (14, 81), (14, 85), (14, 92), (14, 96), (14, 101), (14, 104), (14, 111), (14, 117), (14, 122), (14, 128), (14, 134), (14, 146), (14, 147), (14, 154), (14, 160), (14, 167), (14, 173), (14, 178), (14, 187), (14, 189), (14, 197), (14, 198), (14, 207), (14, 215), (14, 224), (14, 233), (14, 240), (14, 241), (14, 255), (14, 258), (14, 274), (14, 275), (14, 297), (14, 298), (14, 321), (15, 74), (15, 76), (15, 82), (15, 86), (15, 90), (15, 94), (15, 99), (15, 106), (15, 112), (15, 118), (15, 123), (15, 131), (15, 136), (15, 142), (15, 148), (15, 199), (15, 237), (15, 242), (15, 253), (15, 277), (15, 279), (15, 313), (15, 314), (15, 320), (15, 327), (16, 20), (16, 100), (16, 105), (16, 113), (16, 119), (16, 124), (16, 129), (16, 137), (16, 161), (16, 192), (16, 204), (16, 209), (16, 221), (16, 226), (16, 234), (16, 243), (16, 252), (16, 257), (16, 286), (17, 77), (17, 83), (17, 87), (17, 91), (17, 98), (17, 102), (17, 183), (17, 270), (18, 35), (18, 78), (18, 80), (18, 84), (18, 89), (18, 95), (18, 103), (18, 185), (18, 244), (18, 254), (18, 284), (19, 41), (19, 42), (19, 60), (19, 61), (19, 81), (19, 85), (19, 92), (19, 96), (19, 101), (19, 146), (19, 147), (19, 154), (19, 160), (19, 167), (19, 173), (19, 189), (19, 198), (19, 207), (19, 215), (19, 224), (19, 233), (19, 240), (19, 258), (19, 263), (19, 265), (19, 274), (19, 275), (19, 297), (19, 298), (19, 321), (20, 88), (20, 93), (20, 97), (20, 105), (20, 113), (20, 119), (20, 124), (20, 129), (20, 137), (20, 156), (20, 161), (20, 192), (20, 204), (20, 209), (20, 221), (20, 226), (20, 234), (20, 243), (20, 250), (20, 252), (21, 25), (21, 73), (21, 140), (21, 266), (21, 303), (21, 316), (22, 44), (22, 74), (22, 99), (22, 267), (23, 31), (23, 39), (23, 45), (23, 46), (23, 47), (23, 48), (23, 49), (23, 50), (23, 51), (23, 52), (23, 53), (23, 55), (23, 56), (23, 57), (23, 58), (23, 63), (23, 65), (23, 72), (23, 110), (23, 268), (23, 280), (23, 291), (23, 300), (23, 305), (23, 310), (23, 318), (23, 328), (24, 32), (24, 37), (25, 73), (25, 303), (25, 312), (26, 108), (26, 115), (26, 120), (26, 126), (26, 130), (26, 155), (26, 166), (26, 172), (26, 196), (26, 214), (26, 231), (26, 323), (27, 184), (27, 239), (27, 287), (28, 151), (28, 158), (28, 164), (28, 171), (28, 176), (28, 184), (28, 195), (28, 202), (28, 211), (28, 217), (28, 228), (28, 239), (29, 267), (29, 302), (30, 101), (30, 140), (31, 39), (31, 45), (31, 46), (31, 47), (31, 48), (31, 49), (31, 50), (31, 51), (31, 52), (31, 53), (31, 55), (31, 56), (31, 57), (31, 58), (31, 63), (31, 65), (31, 72), (31, 110), (31, 268), (31, 280), (31, 291), (31, 300), (31, 305), (31, 310), (31, 318), (31, 328), (32, 37), (32, 302), (33, 276), (33, 301), (33, 311), (35, 103), (37, 302), (38, 75), (39, 45), (39, 46), (39, 47), (39, 48), (39, 49), (39, 50), (39, 51), (39, 52), (39, 53), (39, 55), (39, 56), (39, 57), (39, 58), (39, 63), (39, 65), (39, 72), (39, 110), (39, 268), (39, 280), (39, 291), (39, 300), (39, 305), (39, 310), (39, 318), (39, 328), (40, 59), (40, 188), (40, 289), (41, 42), (41, 60), (41, 61), (41, 146), (41, 147), (41, 154), (41, 160), (41, 167), (41, 173), (41, 178), (41, 189), (41, 197), (41, 198), (41, 206), (41, 207), (41, 215), (41, 224), (41, 233), (41, 240), (41, 241), (41, 255), (41, 258), (41, 263), (41, 265), (41, 274), (41, 275), (41, 297), (41, 298), (41, 321), (41, 329), (42, 60), (42, 61), (42, 146), (42, 147), (42, 154), (42, 160), (42, 167), (42, 173), (42, 178), (42, 189), (42, 197), (42, 198), (42, 206), (42, 207), (42, 215), (42, 224), (42, 233), (42, 240), (42, 241), (42, 255), (42, 258), (42, 263), (42, 265), (42, 274), (42, 275), (42, 297), (42, 298), (42, 321), (42, 329), (43, 62), (43, 79), (43, 81), (43, 85), (43, 92), (43, 96), (43, 104), (43, 109), (43, 111), (43, 116), (43, 117), (43, 122), (43, 127), (43, 128), (43, 133), (43, 134), (43, 139), (43, 187), (43, 248), (43, 260), (43, 299), (43, 325), (44, 74), (44, 99), (44, 267), (44, 302), (45, 46), (45, 47), (45, 48), (45, 49), (45, 50), (45, 51), (45, 52), (45, 53), (45, 55), (45, 56), (45, 57), (45, 58), (45, 63), (45, 65), (45, 72), (45, 110), (45, 268), (45, 280), (45, 291), (45, 300), (45, 305), (45, 310), (45, 318), (45, 328), (46, 47), (46, 48), (46, 49), (46, 50), (46, 51), (46, 52), (46, 53), (46, 55), (46, 56), (46, 57), (46, 58), (46, 63), (46, 65), (46, 72), (46, 110), (46, 268), (46, 280), (46, 291), (46, 300), (46, 305), (46, 310), (46, 318), (46, 328), (47, 48), (47, 49), (47, 50), (47, 51), (47, 52), (47, 53), (47, 55), (47, 56), (47, 57), (47, 58), (47, 63), (47, 65), (47, 72), (47, 110), (47, 268), (47, 280), (47, 291), (47, 300), (47, 305), (47, 310), (47, 318), (47, 328), (48, 49), (48, 50), (48, 51), (48, 52), (48, 53), (48, 55), (48, 56), (48, 57), (48, 58), (48, 63), (48, 65), (48, 72), (48, 110), (48, 268), (48, 280), (48, 291), (48, 300), (48, 305), (48, 310), (48, 318), (48, 328), (49, 50), (49, 51), (49, 52), (49, 53), (49, 55), (49, 56), (49, 57), (49, 58), (49, 63), (49, 65), (49, 72), (49, 110), (49, 268), (49, 280), (49, 291), (49, 300), (49, 305), (49, 310), (49, 318), (49, 328), (50, 51), (50, 52), (50, 53), (50, 55), (50, 56), (50, 57), (50, 58), (50, 63), (50, 65), (50, 72), (50, 110), (50, 268), (50, 280), (50, 291), (50, 300), (50, 305), (50, 310), (50, 318), (50, 328), (51, 52), (51, 53), (51, 55), (51, 56), (51, 57), (51, 58), (51, 63), (51, 65), (51, 72), (51, 110), (51, 268), (51, 280), (51, 291), (51, 300), (51, 305), (51, 310), (51, 318), (51, 328), (52, 53), (52, 55), (52, 56), (52, 57), (52, 58), (52, 63), (52, 65), (52, 72), (52, 110), (52, 268), (52, 280), (52, 291), (52, 300), (52, 305), (52, 310), (52, 318), (52, 328), (53, 55), (53, 56), (53, 57), (53, 58), (53, 63), (53, 65), (53, 72), (53, 110), (53, 268), (53, 280), (53, 291), (53, 300), (53, 305), (53, 310), (53, 318), (53, 328), (55, 56), (55, 57), (55, 58), (55, 63), (55, 65), (55, 72), (55, 110), (55, 268), (55, 280), (55, 291), (55, 300), (55, 305), (55, 310), (55, 318), (55, 328), (56, 57), (56, 58), (56, 63), (56, 65), (56, 72), (56, 110), (56, 268), (56, 280), (56, 291), (56, 300), (56, 305), (56, 310), (56, 318), (56, 328), (57, 58), (57, 63), (57, 65), (57, 72), (57, 110), (57, 268), (57, 280), (57, 291), (57, 300), (57, 305), (57, 310), (57, 318), (57, 328), (58, 63), (58, 65), (58, 72), (58, 110), (58, 268), (58, 280), (58, 291), (58, 300), (58, 305), (58, 310), (58, 318), (58, 328), (59, 188), (59, 289), (60, 61), (60, 146), (60, 147), (60, 154), (60, 160), (60, 167), (60, 173), (60, 178), (60, 189), (60, 197), (60, 198), (60, 206), (60, 207), (60, 215), (60, 223), (60, 224), (60, 233), (60, 240), (60, 241), (60, 255), (60, 258), (60, 263), (60, 265), (60, 274), (60, 275), (60, 297), (60, 298), (60, 321), (60, 329), (61, 146), (61, 147), (61, 154), (61, 160), (61, 167), (61, 173), (61, 178), (61, 189), (61, 197), (61, 198), (61, 206), (61, 207), (61, 215), (61, 224), (61, 233), (61, 240), (61, 241), (61, 255), (61, 258), (61, 263), (61, 265), (61, 274), (61, 275), (61, 297), (61, 298), (61, 321), (61, 329), (62, 79), (62, 81), (62, 85), (62, 92), (62, 96), (62, 104), (62, 109), (62, 111), (62, 116), (62, 117), (62, 122), (62, 127), (62, 128), (62, 133), (62, 134), (62, 139), (62, 187), (62, 248), (62, 260), (62, 299), (62, 325), (63, 65), (63, 72), (63, 110), (63, 142), (63, 148), (63, 179), (63, 190), (63, 199), (63, 229), (63, 237), (63, 268), (63, 279), (63, 280), (63, 291), (63, 300), (63, 305), (63, 310), (63, 315), (63, 317), (63, 318), (64, 99), (64, 277), (64, 313), (64, 314), (65, 72), (65, 110), (65, 268), (65, 280), (65, 291), (65, 300), (65, 305), (65, 310), (65, 318), (65, 328), (66, 68), (66, 71), (66, 288), (67, 69), (67, 70), (67, 186), (67, 262), (67, 290), (67, 324), (68, 71), (68, 288), (69, 70), (69, 324), (70, 259), (70, 262), (70, 285), (70, 290), (70, 324), (71, 286), (71, 288), (72, 110), (72, 268), (72, 280), (72, 291), (72, 300), (72, 305), (72, 310), (72, 318), (72, 328), (73, 140), (73, 266), (73, 303), (73, 316), (74, 99), (74, 267), (76, 82), (76, 86), (76, 90), (76, 94), (76, 99), (76, 106), (76, 112), (76, 118), (76, 123), (76, 131), (76, 136), (76, 242), (76, 253), (76, 313), (76, 314), (76, 327), (77, 83), (77, 87), (77, 91), (77, 98), (77, 102), (77, 107), (77, 114), (77, 121), (77, 125), (77, 132), (77, 270), (78, 80), (78, 84), (78, 89), (78, 95), (78, 103), (78, 108), (78, 120), (78, 126), (78, 130), (78, 155), (78, 166), (78, 172), (78, 177), (78, 185), (78, 196), (78, 205), (78, 214), (78, 218), (78, 231), (78, 244), (78, 254), (78, 284), (79, 81), (79, 85), (79, 92), (79, 96), (79, 101), (79, 104), (79, 109), (79, 111), (79, 116), (79, 117), (79, 122), (79, 127), (79, 128), (79, 133), (79, 134), (79, 146), (79, 147), (79, 154), (79, 160), (79, 167), (79, 173), (79, 187), (79, 197), (79, 206), (79, 223), (79, 233), (79, 248), (79, 260), (79, 299), (79, 325), (80, 84), (80, 89), (80, 95), (80, 103), (80, 108), (80, 120), (80, 126), (80, 130), (80, 155), (80, 166), (80, 172), (80, 177), (80, 185), (80, 196), (80, 205), (80, 214), (80, 218), (80, 231), (80, 244), (80, 254), (80, 284), (81, 85), (81, 92), (81, 96), (81, 101), (81, 104), (81, 109), (81, 111), (81, 116), (81, 117), (81, 122), (81, 127), (81, 128), (81, 133), (81, 134), (81, 146), (81, 147), (81, 154), (81, 160), (81, 167), (81, 173), (81, 187), (81, 197), (81, 206), (81, 207), (81, 223), (81, 224), (81, 233), (81, 241), (81, 248), (81, 255), (81, 260), (81, 299), (81, 321), (81, 325), (82, 86), (82, 90), (82, 94), (82, 99), (82, 106), (82, 112), (82, 118), (82, 123), (82, 131), (82, 136), (82, 242), (82, 253), (82, 313), (82, 314), (82, 327), (83, 87), (83, 91), (83, 98), (83, 102), (83, 107), (83, 114), (83, 121), (83, 125), (83, 132), (83, 195), (83, 211), (83, 270), (84, 89), (84, 95), (84, 103), (84, 108), (84, 120), (84, 126), (84, 130), (84, 155), (84, 166), (84, 172), (84, 177), (84, 185), (84, 196), (84, 205), (84, 214), (84, 218), (84, 231), (84, 244), (84, 254), (84, 284), (85, 92), (85, 96), (85, 101), (85, 104), (85, 109), (85, 111), (85, 116), (85, 117), (85, 122), (85, 127), (85, 128), (85, 133), (85, 134), (85, 146), (85, 147), (85, 154), (85, 160), (85, 167), (85, 173), (85, 187), (85, 197), (85, 206), (85, 207), (85, 223), (85, 224), (85, 233), (85, 241), (85, 248), (85, 255), (85, 260), (85, 299), (85, 325), (86, 90), (86, 94), (86, 99), (86, 106), (86, 112), (86, 118), (86, 123), (86, 131), (86, 136), (86, 242), (86, 253), (86, 313), (86, 314), (86, 327), (87, 91), (87, 98), (87, 102), (87, 107), (87, 114), (87, 121), (87, 125), (87, 132), (87, 195), (87, 211), (87, 270), (88, 93), (88, 97), (88, 105), (88, 113), (88, 119), (88, 124), (88, 129), (88, 192), (88, 204), (88, 209), (88, 221), (88, 226), (88, 234), (88, 243), (88, 247), (88, 252), (89, 95), (89, 103), (89, 108), (89, 120), (89, 126), (89, 130), (89, 155), (89, 166), (89, 172), (89, 177), (89, 185), (89, 196), (89, 205), (89, 214), (89, 218), (89, 231), (89, 244), (89, 254), (89, 284), (90, 94), (90, 99), (90, 106), (90, 112), (90, 118), (90, 123), (90, 131), (90, 136), (90, 242), (90, 253), (90, 313), (90, 314), (90, 327), (91, 98), (91, 102), (91, 107), (91, 114), (91, 121), (91, 125), (91, 132), (91, 195), (91, 211), (91, 270), (92, 96), (92, 101), (92, 104), (92, 109), (92, 111), (92, 116), (92, 117), (92, 122), (92, 127), (92, 128), (92, 133), (92, 134), (92, 146), (92, 147), (92, 154), (92, 160), (92, 167), (92, 173), (92, 187), (92, 197), (92, 206), (92, 207), (92, 223), (92, 224), (92, 233), (92, 241), (92, 248), (92, 255), (92, 260), (92, 299), (92, 325), (93, 97), (93, 105), (93, 113), (93, 119), (93, 124), (93, 129), (93, 192), (93, 204), (93, 209), (93, 221), (93, 226), (93, 234), (93, 243), (93, 252), (94, 99), (94, 106), (94, 112), (94, 118), (94, 123), (94, 131), (94, 136), (94, 242), (94, 253), (94, 313), (94, 314), (94, 327), (95, 103), (95, 108), (95, 120), (95, 126), (95, 130), (95, 155), (95, 166), (95, 172), (95, 177), (95, 185), (95, 196), (95, 205), (95, 214), (95, 218), (95, 231), (95, 244), (95, 254), (95, 284), (96, 101), (96, 104), (96, 109), (96, 111), (96, 116), (96, 117), (96, 122), (96, 127), (96, 128), (96, 133), (96, 134), (96, 146), (96, 147), (96, 154), (96, 160), (96, 167), (96, 173), (96, 187), (96, 197), (96, 206), (96, 207), (96, 223), (96, 224), (96, 233), (96, 241), (96, 248), (96, 255), (96, 260), (96, 299), (96, 321), (96, 325), (97, 105), (97, 113), (97, 119), (97, 124), (97, 129), (97, 192), (97, 204), (97, 209), (97, 221), (97, 226), (97, 234), (97, 243), (97, 247), (97, 252), (98, 102), (98, 107), (98, 114), (98, 121), (98, 125), (98, 132), (98, 195), (98, 211), (98, 270), (99, 112), (99, 136), (99, 267), (99, 277), (99, 313), (99, 314), (100, 161), (100, 234), (100, 243), (100, 252), (100, 257), (101, 104), (101, 111), (101, 117), (101, 122), (101, 128), (101, 134), (101, 139), (101, 146), (101, 147), (101, 154), (101, 160), (101, 167), (101, 173), (101, 187), (101, 189), (101, 198), (101, 240), (101, 258), (101, 263), (101, 265), (101, 274), (101, 275), (102, 270), (103, 185), (103, 244), (103, 254), (104, 109), (104, 111), (104, 116), (104, 117), (104, 122), (104, 127), (104, 128), (104, 133), (104, 134), (104, 139), (104, 146), (104, 147), (104, 154), (104, 160), (104, 167), (104, 173), (104, 187), (104, 248), (104, 260), (104, 299), (104, 325), (105, 113), (105, 119), (105, 124), (105, 129), (105, 137), (105, 144), (105, 150), (105, 156), (105, 161), (105, 181), (105, 192), (105, 204), (105, 209), (105, 221), (105, 226), (105, 234), (105, 243), (105, 250), (105, 252), (106, 112), (106, 118), (106, 123), (106, 131), (106, 136), (106, 190), (106, 208), (106, 219), (106, 229), (106, 242), (106, 253), (106, 327), (107, 114), (107, 121), (107, 125), (107, 132), (107, 153), (107, 159), (107, 163), (107, 169), (107, 174), (107, 183), (107, 282), (108, 115), (108, 120), (108, 126), (108, 130), (108, 138), (108, 155), (108, 166), (108, 172), (108, 177), (108, 185), (108, 196), (108, 205), (108, 214), (108, 218), (108, 231), (109, 111), (109, 116), (109, 117), (109, 122), (109, 127), (109, 128), (109, 133), (109, 134), (109, 187), (109, 248), (109, 260), (109, 299), (109, 325), (110, 268), (110, 280), (110, 291), (110, 300), (110, 305), (110, 310), (110, 318), (110, 328), (111, 116), (111, 117), (111, 122), (111, 127), (111, 128), (111, 133), (111, 134), (111, 139), (111, 146), (111, 147), (111, 154), (111, 160), (111, 167), (111, 173), (111, 187), (111, 248), (111, 260), (111, 299), (111, 325), (112, 118), (112, 123), (112, 131), (112, 136), (112, 142), (112, 148), (112, 199), (112, 242), (112, 253), (112, 279), (112, 313), (112, 314), (112, 317), (112, 320), (112, 327), (113, 119), (113, 124), (113, 129), (113, 137), (113, 144), (113, 150), (113, 156), (113, 161), (113, 181), (113, 192), (113, 204), (113, 209), (113, 221), (113, 226), (113, 234), (113, 243), (113, 250), (113, 252), (114, 121), (114, 125), (114, 132), (114, 153), (114, 159), (114, 163), (114, 169), (114, 174), (114, 183), (114, 282), (115, 120), (115, 126), (115, 130), (115, 138), (115, 155), (115, 166), (115, 172), (115, 177), (115, 185), (115, 196), (115, 205), (115, 214), (115, 218), (115, 231), (116, 117), (116, 122), (116, 127), (116, 128), (116, 133), (116, 134), (116, 187), (116, 248), (116, 260), (116, 299), (116, 325), (117, 122), (117, 127), (117, 128), (117, 133), (117, 134), (117, 139), (117, 146), (117, 147), (117, 154), (117, 160), (117, 167), (117, 173), (117, 187), (117, 248), (117, 260), (117, 299), (117, 325), (118, 123), (118, 131), (118, 136), (118, 190), (118, 208), (118, 219), (118, 229), (118, 242), (118, 253), (118, 327), (119, 124), (119, 129), (119, 137), (119, 144), (119, 150), (119, 156), (119, 161), (119, 181), (119, 192), (119, 204), (119, 209), (119, 221), (119, 226), (119, 234), (119, 243), (119, 250), (119, 252), (120, 126), (120, 130), (120, 138), (120, 155), (120, 166), (120, 172), (120, 177), (120, 185), (120, 196), (120, 205), (120, 214), (120, 218), (120, 231), (121, 125), (121, 132), (121, 153), (121, 159), (121, 163), (121, 169), (121, 174), (121, 183), (121, 282), (122, 127), (122, 128), (122, 133), (122, 134), (122, 139), (122, 146), (122, 147), (122, 154), (122, 160), (122, 167), (122, 173), (122, 187), (122, 248), (122, 260), (122, 299), (122, 325), (123, 131), (123, 136), (123, 190), (123, 208), (123, 219), (123, 229), (123, 242), (123, 253), (123, 327), (124, 129), (124, 137), (124, 144), (124, 150), (124, 156), (124, 161), (124, 181), (124, 192), (124, 204), (124, 209), (124, 221), (124, 226), (124, 234), (124, 243), (124, 250), (124, 252), (125, 132), (125, 153), (125, 159), (125, 163), (125, 169), (125, 174), (125, 183), (125, 282), (126, 130), (126, 138), (126, 155), (126, 166), (126, 172), (126, 177), (126, 185), (126, 196), (126, 205), (126, 214), (126, 218), (126, 231), (127, 128), (127, 133), (127, 134), (127, 187), (127, 248), (127, 260), (127, 299), (127, 325), (128, 133), (128, 134), (128, 139), (128, 146), (128, 147), (128, 154), (128, 160), (128, 167), (128, 173), (128, 187), (128, 248), (128, 260), (128, 299), (128, 325), (129, 137), (129, 144), (129, 150), (129, 156), (129, 161), (129, 181), (129, 192), (129, 204), (129, 209), (129, 221), (129, 226), (129, 234), (129, 243), (129, 250), (129, 252), (130, 138), (130, 155), (130, 166), (130, 172), (130, 177), (130, 185), (130, 196), (130, 205), (130, 214), (130, 218), (130, 231), (131, 136), (131, 190), (131, 208), (131, 219), (131, 229), (131, 242), (131, 253), (131, 327), (132, 153), (132, 159), (132, 163), (132, 169), (132, 174), (132, 183), (132, 282), (133, 134), (133, 187), (133, 248), (133, 260), (133, 299), (133, 325), (134, 139), (134, 146), (134, 147), (134, 154), (134, 160), (134, 173), (134, 187), (134, 248), (134, 260), (134, 299), (134, 325), (136, 142), (136, 148), (136, 199), (136, 237), (136, 242), (136, 253), (136, 279), (136, 313), (136, 314), (136, 320), (136, 327), (137, 144), (137, 150), (137, 156), (137, 161), (137, 181), (137, 192), (137, 204), (137, 209), (137, 221), (137, 226), (137, 234), (137, 243), (137, 252), (137, 257), (138, 155), (138, 166), (138, 172), (138, 177), (138, 185), (138, 196), (138, 205), (138, 214), (138, 218), (138, 231), (138, 323), (139, 187), (139, 299), (140, 266), (140, 303), (140, 316), (142, 148), (142, 179), (142, 190), (142, 199), (142, 208), (142, 219), (142, 229), (142, 237), (142, 242), (142, 253), (142, 279), (142, 304), (142, 317), (142, 320), (143, 149), (143, 180), (143, 191), (143, 200), (143, 213), (143, 220), (143, 225), (143, 238), (143, 246), (143, 269), (143, 273), (143, 283), (144, 150), (144, 156), (144, 181), (144, 250), (144, 286), (145, 152), (145, 182), (145, 247), (145, 322), (146, 147), (146, 154), (146, 160), (146, 167), (146, 173), (146, 187), (146, 189), (146, 198), (146, 207), (146, 215), (146, 224), (146, 233), (146, 240), (146, 258), (146, 263), (146, 265), (146, 274), (146, 275), (146, 297), (146, 298), (146, 321), (147, 154), (147, 160), (147, 167), (147, 173), (147, 187), (147, 189), (147, 198), (147, 207), (147, 215), (147, 224), (147, 233), (147, 240), (147, 258), (147, 263), (147, 265), (147, 274), (147, 275), (147, 297), (147, 298), (147, 321), (148, 179), (148, 190), (148, 199), (148, 208), (148, 219), (148, 229), (148, 237), (148, 242), (148, 253), (148, 279), (148, 304), (148, 317), (148, 320), (149, 180), (149, 191), (149, 200), (149, 213), (149, 220), (149, 225), (149, 238), (149, 246), (149, 269), (149, 273), (149, 283), (150, 156), (150, 181), (150, 250), (150, 286), (151, 158), (151, 164), (151, 171), (151, 176), (151, 184), (151, 195), (151, 202), (151, 211), (151, 217), (151, 228), (152, 182), (152, 247), (152, 322), (153, 159), (153, 163), (153, 169), (153, 174), (153, 183), (153, 210), (153, 282), (154, 160), (154, 167), (154, 173), (154, 187), (154, 189), (154, 198), (154, 207), (154, 215), (154, 224), (154, 233), (154, 240), (154, 258), (154, 263), (154, 265), (154, 274), (154, 275), (154, 297), (154, 298), (154, 321), (155, 166), (155, 172), (155, 177), (155, 185), (155, 196), (155, 205), (155, 214), (155, 218), (155, 231), (155, 284), (156, 181), (156, 204), (156, 209), (156, 221), (156, 250), (157, 162), (157, 168), (157, 182), (157, 247), (157, 322), (158, 164), (158, 171), (158, 176), (158, 184), (158, 195), (158, 211), (159, 163), (159, 169), (159, 174), (159, 183), (159, 282), (160, 167), (160, 173), (160, 187), (160, 189), (160, 198), (160, 207), (160, 215), (160, 224), (160, 233), (160, 240), (160, 258), (160, 263), (160, 265), (160, 274), (160, 275), (160, 297), (160, 298), (160, 321), (161, 192), (161, 204), (161, 209), (161, 221), (161, 226), (161, 234), (161, 243), (161, 252), (161, 257), (161, 286), (162, 168), (162, 182), (162, 247), (162, 322), (163, 169), (163, 174), (163, 183), (163, 282), (164, 171), (164, 176), (164, 184), (164, 195), (164, 211), (165, 170), (165, 175), (165, 186), (165, 194), (165, 203), (165, 212), (165, 222), (165, 230), (166, 172), (166, 177), (166, 185), (166, 196), (166, 205), (166, 214), (166, 218), (166, 231), (166, 284), (167, 173), (167, 187), (167, 189), (167, 198), (167, 207), (167, 215), (167, 224), (167, 233), (167, 240), (167, 258), (167, 263), (167, 265), (167, 274), (167, 275), (167, 297), (167, 298), (167, 321), (168, 182), (168, 247), (168, 322), (169, 174), (169, 183), (169, 282), (170, 175), (170, 186), (170, 194), (170, 203), (170, 212), (170, 222), (170, 230), (171, 176), (171, 184), (172, 177), (172, 185), (172, 196), (172, 205), (172, 214), (172, 218), (172, 231), (172, 284), (173, 187), (173, 189), (173, 198), (173, 207), (173, 215), (173, 224), (173, 233), (173, 240), (173, 258), (173, 263), (173, 265), (173, 274), (173, 275), (173, 297), (173, 298), (173, 321), (174, 183), (174, 282), (175, 186), (175, 194), (175, 203), (175, 212), (175, 222), (175, 230), (176, 184), (176, 195), (176, 211), (176, 228), (177, 185), (177, 196), (177, 205), (177, 214), (177, 218), (177, 231), (177, 284), (178, 189), (178, 197), (178, 198), (178, 207), (178, 215), (178, 224), (178, 233), (178, 241), (178, 255), (178, 297), (178, 298), (178, 321), (178, 329), (179, 190), (179, 199), (179, 208), (179, 219), (179, 229), (179, 237), (179, 242), (179, 253), (179, 279), (179, 304), (179, 317), (179, 318), (179, 320), (180, 191), (180, 200), (180, 220), (180, 225), (180, 238), (180, 246), (180, 251), (180, 269), (180, 273), (180, 283), (181, 250), (181, 286), (182, 247), (182, 322), (183, 270), (183, 282), (184, 202), (184, 217), (184, 228), (184, 239), (185, 196), (185, 205), (185, 214), (185, 218), (185, 231), (185, 244), (185, 254), (185, 323), (186, 194), (186, 203), (186, 212), (186, 222), (186, 230), (186, 324), (187, 248), (187, 260), (187, 299), (187, 325), (188, 289), (189, 197), (189, 198), (189, 206), (189, 207), (189, 215), (189, 223), (189, 224), (189, 232), (189, 233), (189, 240), (189, 241), (189, 255), (189, 258), (189, 263), (189, 265), (189, 274), (189, 275), (189, 297), (189, 298), (189, 321), (190, 199), (190, 208), (190, 219), (190, 229), (190, 237), (190, 242), (190, 253), (190, 279), (190, 317), (190, 318), (190, 320), (191, 200), (191, 213), (191, 220), (191, 225), (191, 238), (191, 246), (191, 251), (191, 269), (191, 273), (191, 283), (192, 204), (192, 209), (192, 221), (192, 226), (192, 234), (192, 243), (192, 252), (193, 201), (193, 210), (193, 216), (193, 227), (193, 235), (194, 203), (194, 212), (194, 222), (194, 230), (195, 202), (195, 211), (195, 217), (195, 228), (195, 239), (196, 205), (196, 214), (196, 218), (196, 231), (197, 198), (197, 206), (197, 207), (197, 215), (197, 223), (197, 224), (197, 232), (197, 233), (197, 241), (197, 255), (197, 297), (197, 298), (197, 321), (198, 206), (198, 207), (198, 215), (198, 223), (198, 224), (198, 232), (198, 233), (198, 240), (198, 241), (198, 255), (198, 258), (198, 263), (198, 265), (198, 274), (198, 275), (198, 297), (198, 298), (198, 321), (199, 208), (199, 219), (199, 229), (199, 237), (199, 242), (199, 253), (199, 279), (199, 317), (199, 320), (200, 213), (200, 220), (200, 225), (200, 238), (200, 246), (200, 251), (200, 269), (200, 273), (200, 283), (201, 210), (201, 216), (201, 227), (201, 235), (202, 211), (202, 217), (202, 228), (202, 239), (202, 287), (203, 212), (203, 222), (203, 230), (203, 245), (203, 256), (204, 209), (204, 221), (204, 226), (204, 234), (204, 243), (204, 252), (205, 214), (205, 218), (205, 231), (205, 244), (205, 254), (205, 323), (206, 207), (206, 215), (206, 223), (206, 224), (206, 232), (206, 233), (206, 241), (206, 248), (206, 255), (206, 297), (206, 298), (206, 321), (206, 325), (207, 215), (207, 223), (207, 224), (207, 232), (207, 233), (207, 240), (207, 241), (207, 255), (207, 258), (207, 263), (207, 265), (207, 274), (207, 275), (207, 297), (207, 298), (207, 321), (208, 219), (208, 229), (208, 237), (208, 242), (208, 253), (208, 279), (208, 317), (208, 318), (208, 320), (209, 221), (209, 226), (209, 234), (209, 243), (209, 252), (210, 216), (210, 227), (210, 235), (211, 217), (211, 228), (211, 239), (212, 222), (212, 230), (213, 220), (213, 225), (213, 238), (213, 246), (213, 251), (213, 269), (213, 273), (213, 283), (214, 218), (214, 231), (214, 284), (215, 223), (215, 224), (215, 232), (215, 233), (215, 240), (215, 241), (215, 255), (215, 258), (215, 263), (215, 265), (215, 274), (215, 275), (215, 297), (215, 298), (215, 321), (216, 227), (216, 235), (217, 228), (217, 239), (217, 287), (218, 231), (218, 244), (218, 254), (218, 323), (219, 229), (219, 237), (219, 242), (219, 253), (219, 279), (219, 317), (219, 318), (219, 320), (220, 225), (220, 238), (220, 246), (220, 251), (220, 269), (220, 273), (220, 283), (221, 226), (221, 234), (221, 243), (221, 252), (222, 230), (222, 245), (222, 256), (223, 224), (223, 232), (223, 233), (223, 241), (223, 248), (223, 255), (223, 321), (223, 325), (224, 232), (224, 233), (224, 240), (224, 241), (224, 255), (224, 258), (224, 263), (224, 265), (224, 274), (224, 275), (224, 297), (224, 298), (224, 321), (225, 238), (225, 246), (225, 251), (225, 269), (225, 273), (225, 283), (226, 234), (226, 243), (226, 252), (227, 235), (228, 239), (228, 287), (229, 237), (229, 242), (229, 253), (229, 279), (229, 317), (229, 318), (229, 320), (232, 233), (232, 241), (232, 255), (232, 321), (233, 240), (233, 241), (233, 255), (233, 258), (233, 263), (233, 265), (233, 274), (233, 275), (233, 297), (233, 298), (233, 321), (234, 243), (234, 252), (237, 242), (237, 253), (237, 279), (237, 304), (237, 317), (237, 320), (238, 246), (238, 251), (238, 269), (238, 273), (238, 283), (239, 287), (240, 258), (240, 263), (240, 265), (240, 274), (240, 275), (240, 297), (240, 298), (240, 321), (241, 255), (241, 297), (241, 298), (241, 321), (241, 329), (242, 253), (242, 279), (242, 317), (242, 320), (243, 252), (244, 254), (244, 284), (245, 256), (245, 271), (245, 272), (246, 251), (246, 269), (246, 273), (246, 283), (247, 322), (248, 260), (248, 299), (248, 325), (249, 261), (249, 326), (249, 329), (251, 269), (251, 283), (253, 279), (253, 317), (253, 320), (254, 284), (255, 297), (255, 298), (255, 321), (255, 329), (256, 271), (256, 272), (257, 286), (258, 263), (258, 265), (258, 274), (258, 275), (258, 297), (258, 298), (258, 321), (259, 262), (259, 324), (260, 299), (260, 325), (261, 326), (261, 329), (263, 265), (263, 274), (263, 275), (263, 297), (263, 298), (263, 321), (265, 274), (265, 275), (265, 297), (265, 298), (265, 321), (266, 303), (266, 316), (268, 280), (268, 291), (268, 300), (268, 305), (268, 310), (268, 318), (268, 328), (269, 273), (269, 283), (273, 283), (274, 275), (274, 297), (274, 298), (274, 321), (275, 297), (275, 298), (275, 321), (276, 278), (276, 281), (276, 301), (276, 306), (276, 311), (277, 313), (277, 314), (278, 281), (278, 301), (278, 306), (278, 311), (279, 304), (279, 317), (279, 320), (280, 291), (280, 300), (280, 305), (280, 310), (280, 318), (280, 328), (281, 301), (281, 306), (281, 311), (285, 290), (285, 324), (290, 324), (291, 300), (291, 305), (291, 310), (291, 318), (291, 328), (293, 294), (297, 298), (297, 321), (297, 329), (298, 321), (298, 329), (299, 325), (300, 305), (300, 310), (300, 318), (300, 328), (301, 306), (301, 311), (303, 316), (304, 315), (304, 317), (305, 310), (305, 318), (305, 328), (306, 312), (310, 318), (310, 328), (313, 314), (313, 327), (314, 327), (317, 318), (317, 320), (318, 328), (321, 329)]\n"
          ]
        }
      ]
    },
    {
      "cell_type": "code",
      "source": [
        "#判断两个框是不是在同一行\n",
        "def are_boxes_in_same_row(box1, box2, threshold):\n",
        "    box1_coords = [float(coord) for coord in box1.split(',')]\n",
        "    box2_coords = [float(coord) for coord in box2.split(',')]\n",
        "\n",
        "    # 提取框的 y 坐标\n",
        "    y1_box1 = box1_coords[1]\n",
        "    y1_box2 = box2_coords[1]\n",
        "\n",
        "    # 比较框的 y 坐标并判断是否在同一行\n",
        "    threshold = 5  # 阈值，用于判断两个框在 y 坐标上的差异\n",
        "\n",
        "    if abs(y1_box1 - y1_box2) <= threshold:\n",
        "        print(\"两个框在同一行\")\n",
        "    else:\n",
        "        print(\"两个框不在同一行\")\n",
        "\n",
        "#判断哪个框在上，哪个在下\n",
        "def are_frist_box_is_front(box1,box2):\n",
        "  # 解析框的坐标信息\n",
        "    box1_coords = [float(coord) for coord in box1.split(',')]\n",
        "    box2_coords = [float(coord) for coord in box2.split(',')]\n",
        "\n",
        "    # 提取框的左边 x 坐标\n",
        "    x1_box1 = box1_coords[0]\n",
        "    x1_box2 = box2_coords[0]\n",
        "\n",
        "    # 判断框的前后顺序\n",
        "    if x1_box1 < x1_box2:\n",
        "        print(\"框1在前，框2在后\")\n",
        "    elif x1_box1 > x1_box2:\n",
        "        print(\"框2在前，框1在后\")\n",
        "    else:\n",
        "        print(\"框1和框2重叠或位置相同\")\n",
        "\n",
        "#判断两个框是不是在同一列\n",
        "# 解析框的坐标信息\n",
        "def are_boxes_in_same_col(box1,box2):\n",
        "    # 解析框的坐标信息\n",
        "    box1_coords = [float(coord) for coord in box1.split(',')]\n",
        "    box2_coords = [float(coord) for coord in box2.split(',')]\n",
        "\n",
        "    # 提取框的左边和右边 x 坐标\n",
        "    x1_box1 = box1_coords[0]\n",
        "    x2_box1 = box1_coords[2]\n",
        "    x1_box2 = box2_coords[0]\n",
        "    x2_box2 = box2_coords[2]\n",
        "\n",
        "    # 设置接近阈值\n",
        "    threshold = 5  # 阈值，用于判断两个框在 x 坐标上的接近程度\n",
        "\n",
        "    # 判断框是否在同一列并且非常接近\n",
        "    if abs(x1_box1 - x1_box2) <= threshold and abs(x2_box1 - x2_box2) <= threshold:\n",
        "        print(\"两个框在同一列并且非常接近\")\n",
        "    else:\n",
        "        print(\"两个框不在同一列或不够接近\")\n",
        "584.0,658.0,620.0,658.0,620.0,676.0,584.0,676.0\n",
        "text: 6. ['7ml']\n",
        "box: 136.0,646.0,229.0,646.0,229.0,661.0,136.0,661.0\n",
        "text: 7. ['LA LOTION PRE SOM']\n",
        "box: 685.0,633.0,740.0,633.0,740.0,652.0,685.0,652.0\n",
        "text: 8. ['云绒霜']\n",
        "box: 573.0,634.0,627.0,634.0,627.0,653.0,573.0,653.0\n",
        "text: 9. ['云绒霜']\n",
        "are_boxes_in_same_col('584.0,658.0,620.0,658.0,620.0,676.0,584.0,676.0','573.0,634.0,627.0,634.0,627.0,653.0,573.0,653.0')\n",
        "# are_boxes_in_same_row('532.0,777.0,729.0,779.0,728.0,795.0,530.0,792.0','67.0,778.0,536.0,778.0,536.0,793.0,67.0,793.0',5)\n",
        "# are_frist_box_is_front('532.0,777.0,729.0,779.0,728.0,795.0,530.0,792.0','67.0,778.0,536.0,778.0,536.0,793.0,67.0,793.0')"
      ],
      "metadata": {
        "colab": {
          "base_uri": "https://localhost:8080/"
        },
        "id": "YXxE9YOcG5q2",
        "outputId": "db0d29df-8aec-4782-b9bd-39c16656b4e0"
      },
      "execution_count": 19,
      "outputs": [
        {
          "output_type": "stream",
          "name": "stdout",
          "text": [
            "两个框不在同一列或不够接近\n"
          ]
        }
      ]
    },
    {
      "cell_type": "code",
      "source": [
        "ner_pipeline = pipeline(Tasks.named_entity_recognition, 'damo/nlp_raner_named-entity-recognition_chinese-base-ecom-50cls')\n"
      ],
      "metadata": {
        "colab": {
          "base_uri": "https://localhost:8080/"
        },
        "id": "Q6aNbFAUEGLd",
        "outputId": "46b32794-59cb-48a1-998a-92f6efbf1e54"
      },
      "execution_count": 55,
      "outputs": [
        {
          "output_type": "stream",
          "name": "stderr",
          "text": [
            "2023-07-13 11:35:01,403 - modelscope - INFO - Model revision not specified, use the latest revision: v1.0.0\n",
            "Downloading: 100%|██████████| 10.9k/10.9k [00:00<00:00, 15.2MB/s]\n",
            "Downloading: 100%|██████████| 175/175 [00:00<00:00, 588kB/s]\n",
            "Downloading: 100%|██████████| 52.0k/52.0k [00:00<00:00, 122kB/s]\n",
            "Downloading: 100%|██████████| 391M/391M [00:28<00:00, 14.6MB/s]\n",
            "Downloading: 100%|██████████| 7.68k/7.68k [00:00<00:00, 8.63MB/s]\n",
            "Downloading: 100%|██████████| 112/112 [00:00<00:00, 406kB/s]\n",
            "Downloading: 100%|██████████| 429k/429k [00:01<00:00, 417kB/s]\n",
            "Downloading: 100%|██████████| 364/364 [00:00<00:00, 1.94MB/s]\n",
            "Downloading: 100%|██████████| 107k/107k [00:00<00:00, 163kB/s]\n",
            "2023-07-13 11:35:39,342 - modelscope - INFO - initiate model from /root/.cache/modelscope/hub/damo/nlp_raner_named-entity-recognition_chinese-base-ecom-50cls\n",
            "2023-07-13 11:35:39,343 - modelscope - INFO - initiate model from location /root/.cache/modelscope/hub/damo/nlp_raner_named-entity-recognition_chinese-base-ecom-50cls.\n",
            "2023-07-13 11:35:39,346 - modelscope - INFO - initialize model from /root/.cache/modelscope/hub/damo/nlp_raner_named-entity-recognition_chinese-base-ecom-50cls\n",
            "2023-07-13 11:35:41,849 - modelscope - INFO - head has no _keys_to_ignore_on_load_missing\n",
            "2023-07-13 11:35:42,619 - modelscope - INFO - All model checkpoint weights were used when initializing ModelForTokenClassificationWithCRF.\n",
            "\n",
            "2023-07-13 11:35:42,621 - modelscope - INFO - All the weights of ModelForTokenClassificationWithCRF were initialized from the model checkpoint If your task is similar to the task the model of the checkpoint was trained on, you can already use ModelForTokenClassificationWithCRF for predictions without further training.\n",
            "2023-07-13 11:35:42,629 - modelscope - WARNING - No preprocessor field found in cfg.\n",
            "2023-07-13 11:35:42,630 - modelscope - WARNING - No val key and type key found in preprocessor domain of configuration.json file.\n",
            "2023-07-13 11:35:42,634 - modelscope - WARNING - Cannot find available config to build preprocessor at mode inference, current config: {'model_dir': '/root/.cache/modelscope/hub/damo/nlp_raner_named-entity-recognition_chinese-base-ecom-50cls'}. trying to build by task and model information.\n",
            "2023-07-13 11:35:42,651 - modelscope - INFO - cuda is not available, using cpu instead.\n",
            "2023-07-13 11:35:42,654 - modelscope - WARNING - No preprocessor field found in cfg.\n",
            "2023-07-13 11:35:42,656 - modelscope - WARNING - No val key and type key found in preprocessor domain of configuration.json file.\n",
            "2023-07-13 11:35:42,657 - modelscope - WARNING - Cannot find available config to build preprocessor at mode inference, current config: {'model_dir': '/root/.cache/modelscope/hub/damo/nlp_raner_named-entity-recognition_chinese-base-ecom-50cls', 'sequence_length': 512}. trying to build by task and model information.\n",
            "2023-07-13 11:35:42,667 - modelscope - WARNING - No preprocessor field found in cfg.\n",
            "2023-07-13 11:35:42,668 - modelscope - WARNING - No val key and type key found in preprocessor domain of configuration.json file.\n",
            "2023-07-13 11:35:42,670 - modelscope - WARNING - Cannot find available config to build preprocessor at mode inference, current config: {'model_dir': '/root/.cache/modelscope/hub/damo/nlp_raner_named-entity-recognition_chinese-base-ecom-50cls', 'sequence_length': 512}. trying to build by task and model information.\n"
          ]
        }
      ]
    }
  ]
}